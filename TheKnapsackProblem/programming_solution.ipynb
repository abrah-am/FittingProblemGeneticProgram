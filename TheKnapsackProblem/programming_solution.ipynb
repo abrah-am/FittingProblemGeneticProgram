{
 "cells": [
  {
   "cell_type": "markdown",
   "metadata": {},
   "source": [
    "# Programing Solution\n",
    "For this problem, we need to find how many items composed of size and value can fit in a container with a given size. The combination of items must maximize the capacity and offer the most value. \n",
    "\n",
    "__Example:__  \n",
    "The container can hold up to 100 units.  \n",
    "There are four items  \n",
    "item1: Size = 40 units, value = 10 units   \n",
    "item2: Size = 30 units, value = 20 units   \n",
    "item3: Size = 60 units, value = 5 units   \n",
    "item4: Size = 70 units, value = 2 units   \n",
    "\n",
    "__Let's see the combinations:__  \n",
    "item1 and item3 = 100 units, value = 15 units  \n",
    "item2 and item4 = 100 units, value = 22 units  \n",
    "item2 and item3 = 90 units, value = 25 units  "
   ]
  },
  {
   "cell_type": "code",
   "execution_count": 1,
   "metadata": {},
   "outputs": [],
   "source": [
    "# Import the Item class from item_module\n",
    "from item_module import Item, ItemCollection, Container"
   ]
  },
  {
   "cell_type": "markdown",
   "metadata": {},
   "source": [
    "### Create an item collection\n",
    "This is a collection of random items wit Random size and value. "
   ]
  },
  {
   "cell_type": "code",
   "execution_count": 2,
   "metadata": {},
   "outputs": [
    {
     "data": {
      "text/plain": [
       "[s=6;v=30]\t[s=45;v=34]\t[s=39;v=90]\t[s=38;v=12]\t[s=33;v=83]\t[s=92;v=62]\t[s=100;v=65]\t[s=100;v=81]\t[s=5;v=14]\t[s=60;v=74]\t[s=47;v=44]\t[s=30;v=3]\t[s=1;v=44]\t[s=54;v=35]\t[s=49;v=81]\t[s=24;v=54]\t[s=7;v=91]\t[s=91;v=21]\t[s=67;v=33]\t[s=70;v=44]\t"
      ]
     },
     "execution_count": 2,
     "metadata": {},
     "output_type": "execute_result"
    }
   ],
   "source": [
    "itemCollection = ItemCollection(20)\n",
    "itemCollection"
   ]
  },
  {
   "cell_type": "markdown",
   "metadata": {},
   "source": [
    "### Create a container\n",
    "Items will be tried to fit into this container until it reaches the max capacity"
   ]
  },
  {
   "cell_type": "code",
   "execution_count": 3,
   "metadata": {},
   "outputs": [
    {
     "data": {
      "text/plain": [
       "Items:[]\n",
       "Total Occupied Size:0\n",
       "Total Value:0"
      ]
     },
     "execution_count": 3,
     "metadata": {},
     "output_type": "execute_result"
    }
   ],
   "source": [
    "container = Container(100)\n",
    "container"
   ]
  },
  {
   "cell_type": "markdown",
   "metadata": {},
   "source": [
    "### Sort items by Size then Value\n",
    "For the first solution, items in the collection are sorted by **Size** and then **Value**. The sorted elements will be added to the container until no more items can fit."
   ]
  },
  {
   "cell_type": "code",
   "execution_count": 4,
   "metadata": {},
   "outputs": [
    {
     "data": {
      "text/plain": [
       "[s=100;v=81]\t[s=100;v=65]\t[s=92;v=62]\t[s=91;v=21]\t[s=70;v=44]\t[s=67;v=33]\t[s=60;v=74]\t[s=54;v=35]\t[s=49;v=81]\t[s=47;v=44]\t[s=45;v=34]\t[s=39;v=90]\t[s=38;v=12]\t[s=33;v=83]\t[s=30;v=3]\t[s=24;v=54]\t[s=7;v=91]\t[s=6;v=30]\t[s=5;v=14]\t[s=1;v=44]\t"
      ]
     },
     "execution_count": 4,
     "metadata": {},
     "output_type": "execute_result"
    }
   ],
   "source": [
    "bySize = itemCollection.getItemCollectionBySize()\n",
    "bySize"
   ]
  },
  {
   "cell_type": "code",
   "execution_count": 5,
   "metadata": {},
   "outputs": [
    {
     "data": {
      "text/plain": [
       "Items:[[s=100;v=81]]\n",
       "Total Occupied Size:100\n",
       "Total Value:81"
      ]
     },
     "execution_count": 5,
     "metadata": {},
     "output_type": "execute_result"
    }
   ],
   "source": [
    "container.fitItems(bySize)\n",
    "container"
   ]
  },
  {
   "cell_type": "markdown",
   "metadata": {},
   "source": [
    "### Sort items by Value then Size\n",
    "For the first solution, items in the collection are sorted by **Value** and then **Size**. The sorted elements will be added to the container until no more items can fit."
   ]
  },
  {
   "cell_type": "code",
   "execution_count": 6,
   "metadata": {},
   "outputs": [
    {
     "data": {
      "text/plain": [
       "[s=7;v=91]\t[s=39;v=90]\t[s=33;v=83]\t[s=100;v=81]\t[s=49;v=81]\t[s=60;v=74]\t[s=100;v=65]\t[s=92;v=62]\t[s=24;v=54]\t[s=70;v=44]\t[s=47;v=44]\t[s=1;v=44]\t[s=54;v=35]\t[s=45;v=34]\t[s=67;v=33]\t[s=6;v=30]\t[s=91;v=21]\t[s=5;v=14]\t[s=38;v=12]\t[s=30;v=3]\t"
      ]
     },
     "execution_count": 6,
     "metadata": {},
     "output_type": "execute_result"
    }
   ],
   "source": [
    "byValue = itemCollection.getItemCollectionByValue()\n",
    "byValue"
   ]
  },
  {
   "cell_type": "code",
   "execution_count": 7,
   "metadata": {},
   "outputs": [
    {
     "data": {
      "text/plain": [
       "Items:[[s=7;v=91], [s=39;v=90], [s=33;v=83], [s=1;v=44], [s=6;v=30], [s=5;v=14]]\n",
       "Total Occupied Size:91\n",
       "Total Value:352"
      ]
     },
     "execution_count": 7,
     "metadata": {},
     "output_type": "execute_result"
    }
   ],
   "source": [
    "container.fitItems(byValue)\n",
    "container"
   ]
  },
  {
   "cell_type": "markdown",
   "metadata": {},
   "source": [
    "### Sort items by Ratio (Value / Size)\n",
    "For the first solution, items in the collection are sorted a ratio resulting from diving __value__ by __Size__. The sorted elements will be added to the container until no more items can fit."
   ]
  },
  {
   "cell_type": "code",
   "execution_count": 8,
   "metadata": {},
   "outputs": [
    {
     "data": {
      "text/plain": [
       "[s=1;v=44]\t[s=7;v=91]\t[s=6;v=30]\t[s=5;v=14]\t[s=33;v=83]\t[s=39;v=90]\t[s=24;v=54]\t[s=49;v=81]\t[s=60;v=74]\t[s=47;v=44]\t[s=100;v=81]\t[s=45;v=34]\t[s=92;v=62]\t[s=100;v=65]\t[s=54;v=35]\t[s=70;v=44]\t[s=67;v=33]\t[s=38;v=12]\t[s=91;v=21]\t[s=30;v=3]\t"
      ]
     },
     "execution_count": 8,
     "metadata": {},
     "output_type": "execute_result"
    }
   ],
   "source": [
    "byRatio = itemCollection.getItemCollectionByRatio()\n",
    "byRatio"
   ]
  },
  {
   "cell_type": "code",
   "execution_count": 9,
   "metadata": {},
   "outputs": [
    {
     "data": {
      "text/plain": [
       "Items:[[s=1;v=44], [s=7;v=91], [s=6;v=30], [s=5;v=14], [s=33;v=83], [s=39;v=90]]\n",
       "Total Occupied Size:91\n",
       "Total Value:352"
      ]
     },
     "execution_count": 9,
     "metadata": {},
     "output_type": "execute_result"
    }
   ],
   "source": [
    "container.fitItems(byRatio)\n",
    "container"
   ]
  },
  {
   "cell_type": "code",
   "execution_count": null,
   "metadata": {},
   "outputs": [],
   "source": []
  }
 ],
 "metadata": {
  "kernelspec": {
   "display_name": "Python 3",
   "language": "python",
   "name": "python3"
  },
  "language_info": {
   "codemirror_mode": {
    "name": "ipython",
    "version": 3
   },
   "file_extension": ".py",
   "mimetype": "text/x-python",
   "name": "python",
   "nbconvert_exporter": "python",
   "pygments_lexer": "ipython3",
   "version": "3.7.3"
  }
 },
 "nbformat": 4,
 "nbformat_minor": 2
}
