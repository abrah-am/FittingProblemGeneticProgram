{
 "cells": [
  {
   "cell_type": "markdown",
   "metadata": {},
   "source": [
    "# Programing Solution\n",
    "For this problem, we need to find how many items composed of size and value can fit in a container with a given size. The combination of items must maximize the capacity and offer the most value. \n",
    "\n",
    "__Example:__  \n",
    "The container can hold up to 100 units.  \n",
    "There are four items  \n",
    "item1: Size = 40 units, value = 10 units   \n",
    "item2: Size = 30 units, value = 20 units   \n",
    "item3: Size = 60 units, value = 5 units   \n",
    "item4: Size = 70 units, value = 2 units   \n",
    "\n",
    "__Let's see the combinations:__  \n",
    "item1 and item3 = 100 units, value = 15 units  \n",
    "item2 and item4 = 100 units, value = 22 units  \n",
    "item2 and item3 = 90 units, value = 25 units  "
   ]
  },
  {
   "cell_type": "code",
   "execution_count": 1,
   "metadata": {
    "collapsed": true
   },
   "outputs": [],
   "source": [
    "# Import the Item class from item_module\n",
    "from item_module import *"
   ]
  },
  {
   "cell_type": "markdown",
   "metadata": {},
   "source": [
    "### Create an item collection\n",
    "This is a collection of random items wit Random size and value. "
   ]
  },
  {
   "cell_type": "code",
   "execution_count": 2,
   "metadata": {},
   "outputs": [
    {
     "data": {
      "text/plain": [
       "[s=64;v=30]\t[s=12;v=14]\t[s=62;v=23]\t[s=79;v=14]\t[s=86;v=80]\t[s=29;v=82]\t[s=54;v=17]\t[s=98;v=27]\t[s=73;v=39]\t[s=89;v=52]\t[s=3;v=41]\t[s=40;v=16]\t[s=39;v=64]\t[s=9;v=27]\t[s=47;v=100]\t[s=16;v=57]\t[s=6;v=85]\t[s=27;v=37]\t[s=89;v=83]\t[s=68;v=44]\t"
      ]
     },
     "execution_count": 2,
     "metadata": {},
     "output_type": "execute_result"
    }
   ],
   "source": [
    "item_collection = ItemCollection(20)\n",
    "item_collection"
   ]
  },
  {
   "cell_type": "markdown",
   "metadata": {},
   "source": [
    "### Create a container\n",
    "Items will be tried to fit into this container until it reaches the max capacity"
   ]
  },
  {
   "cell_type": "code",
   "execution_count": 3,
   "metadata": {},
   "outputs": [
    {
     "data": {
      "text/plain": [
       "Items:[]\n",
       "Total Occupied Size:0\n",
       "Total Value:0"
      ]
     },
     "execution_count": 3,
     "metadata": {},
     "output_type": "execute_result"
    }
   ],
   "source": [
    "container = Container(100)\n",
    "container"
   ]
  },
  {
   "cell_type": "markdown",
   "metadata": {},
   "source": [
    "### Sort items by Size then Value\n",
    "For the first solution, items in the collection are sorted by **Size** and then **Value**. The sorted elements will be added to the container until no more items can fit."
   ]
  },
  {
   "cell_type": "code",
   "execution_count": 4,
   "metadata": {},
   "outputs": [
    {
     "data": {
      "text/plain": [
       "[s=98;v=27]\t[s=89;v=83]\t[s=89;v=52]\t[s=86;v=80]\t[s=79;v=14]\t[s=73;v=39]\t[s=68;v=44]\t[s=64;v=30]\t[s=62;v=23]\t[s=54;v=17]\t[s=47;v=100]\t[s=40;v=16]\t[s=39;v=64]\t[s=29;v=82]\t[s=27;v=37]\t[s=16;v=57]\t[s=12;v=14]\t[s=9;v=27]\t[s=6;v=85]\t[s=3;v=41]\t"
      ]
     },
     "execution_count": 4,
     "metadata": {},
     "output_type": "execute_result"
    }
   ],
   "source": [
    "bySize = NonGASolutions.solution_based_on_value(item_collection)\n",
    "bySize"
   ]
  },
  {
   "cell_type": "code",
   "execution_count": 5,
   "metadata": {},
   "outputs": [
    {
     "data": {
      "text/plain": [
       "Items:[[s=98;v=27]]\n",
       "Total Occupied Size:98\n",
       "Total Value:27"
      ]
     },
     "execution_count": 5,
     "metadata": {},
     "output_type": "execute_result"
    }
   ],
   "source": [
    "container.fit_items(bySize)\n",
    "container"
   ]
  },
  {
   "cell_type": "markdown",
   "metadata": {},
   "source": [
    "### Sort items by Value then Size\n",
    "For the first solution, items in the collection are sorted by **Value** and then **Size**. The sorted elements will be added to the container until no more items can fit."
   ]
  },
  {
   "cell_type": "code",
   "execution_count": 6,
   "metadata": {},
   "outputs": [
    {
     "data": {
      "text/plain": [
       "[s=98;v=27]\t[s=89;v=83]\t[s=89;v=52]\t[s=86;v=80]\t[s=79;v=14]\t[s=73;v=39]\t[s=68;v=44]\t[s=64;v=30]\t[s=62;v=23]\t[s=54;v=17]\t[s=47;v=100]\t[s=40;v=16]\t[s=39;v=64]\t[s=29;v=82]\t[s=27;v=37]\t[s=16;v=57]\t[s=12;v=14]\t[s=9;v=27]\t[s=6;v=85]\t[s=3;v=41]\t"
      ]
     },
     "execution_count": 6,
     "metadata": {},
     "output_type": "execute_result"
    }
   ],
   "source": [
    "byValue = NonGASolutions.solution_based_on_value(item_collection)\n",
    "byValue"
   ]
  },
  {
   "cell_type": "code",
   "execution_count": 7,
   "metadata": {},
   "outputs": [
    {
     "data": {
      "text/plain": [
       "Items:[[s=98;v=27]]\n",
       "Total Occupied Size:98\n",
       "Total Value:27"
      ]
     },
     "execution_count": 7,
     "metadata": {},
     "output_type": "execute_result"
    }
   ],
   "source": [
    "container.fit_items(byValue)\n",
    "container"
   ]
  },
  {
   "cell_type": "markdown",
   "metadata": {},
   "source": [
    "### Sort items by Ratio (Value / Size)\n",
    "For the first solution, items in the collection are sorted a ratio resulting from diving __value__ by __Size__. The sorted elements will be added to the container until no more items can fit."
   ]
  },
  {
   "cell_type": "code",
   "execution_count": 8,
   "metadata": {},
   "outputs": [
    {
     "data": {
      "text/plain": [
       "[s=6;v=85]\t[s=3;v=41]\t[s=16;v=57]\t[s=9;v=27]\t[s=29;v=82]\t[s=47;v=100]\t[s=39;v=64]\t[s=27;v=37]\t[s=12;v=14]\t[s=89;v=83]\t[s=86;v=80]\t[s=68;v=44]\t[s=89;v=52]\t[s=73;v=39]\t[s=64;v=30]\t[s=40;v=16]\t[s=62;v=23]\t[s=54;v=17]\t[s=98;v=27]\t[s=79;v=14]\t"
      ]
     },
     "execution_count": 8,
     "metadata": {},
     "output_type": "execute_result"
    }
   ],
   "source": [
    "byRatio = NonGASolutions.solution_based_on_ratio(item_collection)\n",
    "byRatio"
   ]
  },
  {
   "cell_type": "code",
   "execution_count": 9,
   "metadata": {},
   "outputs": [
    {
     "data": {
      "text/plain": [
       "Items:[[s=6;v=85], [s=3;v=41], [s=16;v=57], [s=9;v=27], [s=29;v=82], [s=27;v=37]]\n",
       "Total Occupied Size:90\n",
       "Total Value:329"
      ]
     },
     "execution_count": 9,
     "metadata": {},
     "output_type": "execute_result"
    }
   ],
   "source": [
    "container.fit_items(byRatio)\n",
    "container"
   ]
  }
 ],
 "metadata": {
  "kernelspec": {
   "display_name": "Python 3",
   "language": "python",
   "name": "python3"
  },
  "language_info": {
   "codemirror_mode": {
    "name": "ipython",
    "version": 3
   },
   "file_extension": ".py",
   "mimetype": "text/x-python",
   "name": "python",
   "nbconvert_exporter": "python",
   "pygments_lexer": "ipython3",
   "version": "3.6.3"
  }
 },
 "nbformat": 4,
 "nbformat_minor": 2
}
