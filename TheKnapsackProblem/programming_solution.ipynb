{
 "cells": [
  {
   "cell_type": "markdown",
   "metadata": {},
   "source": [
    "# Programing Solution\n",
    "For this problem, we need to find how many items composed of size and value can fit in a container with a given size. The combination of items must maximize the capacity and offer the most value. \n",
    "\n",
    "__Example:__  \n",
    "The container can hold up to 100 units.  \n",
    "There are four items  \n",
    "item1: Size = 40 units, value = 10 units   \n",
    "item2: Size = 30 units, value = 20 units   \n",
    "item3: Size = 60 units, value = 5 units   \n",
    "item4: Size = 70 units, value = 2 units   \n",
    "\n",
    "__Let's see the combinations:__  \n",
    "item1 and item3 = 100 units, value = 15 units  \n",
    "item2 and item4 = 100 units, value = 22 units  \n",
    "item2 and item3 = 90 units, value = 25 units  "
   ]
  },
  {
   "cell_type": "code",
   "execution_count": 1,
   "metadata": {},
   "outputs": [],
   "source": [
    "# Import the Item class from item_module\n",
    "from item_module import Item, ItemCollection, Container"
   ]
  },
  {
   "cell_type": "markdown",
   "metadata": {},
   "source": [
    "### Create an item collection\n",
    "This is a collection of random items wit Random size and value. "
   ]
  },
  {
   "cell_type": "code",
   "execution_count": 2,
   "metadata": {},
   "outputs": [
    {
     "data": {
      "text/plain": [
       "[s=80;v=93]\t[s=86;v=94]\t[s=59;v=37]\t[s=27;v=39]\t[s=3;v=3]\t[s=44;v=32]\t[s=73;v=93]\t[s=27;v=74]\t[s=8;v=43]\t[s=19;v=50]\t[s=93;v=44]\t[s=73;v=88]\t[s=3;v=26]\t[s=15;v=39]\t[s=5;v=24]\t[s=75;v=31]\t[s=98;v=89]\t[s=44;v=55]\t[s=66;v=12]\t[s=13;v=71]\t"
      ]
     },
     "execution_count": 2,
     "metadata": {},
     "output_type": "execute_result"
    }
   ],
   "source": [
    "itemCollection = ItemCollection(20)\n",
    "itemCollection"
   ]
  },
  {
   "cell_type": "markdown",
   "metadata": {},
   "source": [
    "### Create a container\n",
    "Items will be tried to fit into this container until it reaches the max capacity"
   ]
  },
  {
   "cell_type": "code",
   "execution_count": 3,
   "metadata": {},
   "outputs": [
    {
     "data": {
      "text/plain": [
       "Items:[]\n",
       "Total Occupied Size:0\n",
       "Total Value:0"
      ]
     },
     "execution_count": 3,
     "metadata": {},
     "output_type": "execute_result"
    }
   ],
   "source": [
    "container = Container(100)\n",
    "container"
   ]
  },
  {
   "cell_type": "markdown",
   "metadata": {},
   "source": [
    "### Sort items by Size then Value\n",
    "For the first solution, items in the collection are sorted by **Size** and then **Value**. The sorted elements will be added to the container until no more items can fit."
   ]
  },
  {
   "cell_type": "code",
   "execution_count": 4,
   "metadata": {},
   "outputs": [
    {
     "data": {
      "text/plain": [
       "[s=98;v=89]\t[s=93;v=44]\t[s=86;v=94]\t[s=80;v=93]\t[s=75;v=31]\t[s=73;v=93]\t[s=73;v=88]\t[s=66;v=12]\t[s=59;v=37]\t[s=44;v=55]\t[s=44;v=32]\t[s=27;v=74]\t[s=27;v=39]\t[s=19;v=50]\t[s=15;v=39]\t[s=13;v=71]\t[s=8;v=43]\t[s=5;v=24]\t[s=3;v=26]\t[s=3;v=3]\t"
      ]
     },
     "execution_count": 4,
     "metadata": {},
     "output_type": "execute_result"
    }
   ],
   "source": [
    "bySize = itemCollection.getItemCollectionBySize()\n",
    "bySize"
   ]
  },
  {
   "cell_type": "code",
   "execution_count": 7,
   "metadata": {},
   "outputs": [
    {
     "data": {
      "text/plain": [
       "Items:[[s=98;v=89]]\n",
       "Total Occupied Size:98\n",
       "Total Value:89"
      ]
     },
     "execution_count": 7,
     "metadata": {},
     "output_type": "execute_result"
    }
   ],
   "source": [
    "container.fitItems(bySize)\n",
    "container"
   ]
  },
  {
   "cell_type": "markdown",
   "metadata": {},
   "source": [
    "### Sort items by Value then Size\n",
    "For the first solution, items in the collection are sorted by **Value** and then **Size**. The sorted elements will be added to the container until no more items can fit."
   ]
  },
  {
   "cell_type": "code",
   "execution_count": 8,
   "metadata": {},
   "outputs": [
    {
     "data": {
      "text/plain": [
       "[s=86;v=94]\t[s=80;v=93]\t[s=73;v=93]\t[s=98;v=89]\t[s=73;v=88]\t[s=27;v=74]\t[s=13;v=71]\t[s=44;v=55]\t[s=19;v=50]\t[s=93;v=44]\t[s=8;v=43]\t[s=27;v=39]\t[s=15;v=39]\t[s=59;v=37]\t[s=44;v=32]\t[s=75;v=31]\t[s=3;v=26]\t[s=5;v=24]\t[s=66;v=12]\t[s=3;v=3]\t"
      ]
     },
     "execution_count": 8,
     "metadata": {},
     "output_type": "execute_result"
    }
   ],
   "source": [
    "byValue = itemCollection.getItemCollectionByValue()\n",
    "byValue"
   ]
  },
  {
   "cell_type": "code",
   "execution_count": 9,
   "metadata": {},
   "outputs": [
    {
     "data": {
      "text/plain": [
       "Items:[[s=86;v=94], [s=13;v=71]]\n",
       "Total Occupied Size:99\n",
       "Total Value:165"
      ]
     },
     "execution_count": 9,
     "metadata": {},
     "output_type": "execute_result"
    }
   ],
   "source": [
    "container.fitItems(byValue)\n",
    "container"
   ]
  },
  {
   "cell_type": "markdown",
   "metadata": {},
   "source": [
    "### Sort items by Ratio (Value / Size)\n",
    "For the first solution, items in the collection are sorted a ratio resulting from diving __value__ by __Size__. The sorted elements will be added to the container until no more items can fit."
   ]
  },
  {
   "cell_type": "code",
   "execution_count": 10,
   "metadata": {},
   "outputs": [
    {
     "data": {
      "text/plain": [
       "[s=3;v=26]\t[s=13;v=71]\t[s=8;v=43]\t[s=5;v=24]\t[s=27;v=74]\t[s=19;v=50]\t[s=15;v=39]\t[s=27;v=39]\t[s=73;v=93]\t[s=44;v=55]\t[s=73;v=88]\t[s=80;v=93]\t[s=86;v=94]\t[s=3;v=3]\t[s=98;v=89]\t[s=44;v=32]\t[s=59;v=37]\t[s=93;v=44]\t[s=75;v=31]\t[s=66;v=12]\t"
      ]
     },
     "execution_count": 10,
     "metadata": {},
     "output_type": "execute_result"
    }
   ],
   "source": [
    "byRatio = itemCollection.getItemCollectionByRatio()\n",
    "byRatio"
   ]
  },
  {
   "cell_type": "code",
   "execution_count": 11,
   "metadata": {},
   "outputs": [
    {
     "data": {
      "text/plain": [
       "Items:[[s=3;v=26], [s=13;v=71], [s=8;v=43], [s=5;v=24], [s=27;v=74], [s=19;v=50], [s=15;v=39], [s=3;v=3]]\n",
       "Total Occupied Size:93\n",
       "Total Value:330"
      ]
     },
     "execution_count": 11,
     "metadata": {},
     "output_type": "execute_result"
    }
   ],
   "source": [
    "container.fitItems(byRatio)\n",
    "container"
   ]
  }
 ],
 "metadata": {
  "kernelspec": {
   "display_name": "Python 3",
   "language": "python",
   "name": "python3"
  },
  "language_info": {
   "codemirror_mode": {
    "name": "ipython",
    "version": 3
   },
   "file_extension": ".py",
   "mimetype": "text/x-python",
   "name": "python",
   "nbconvert_exporter": "python",
   "pygments_lexer": "ipython3",
   "version": "3.6.3"
  }
 },
 "nbformat": 4,
 "nbformat_minor": 2
}
