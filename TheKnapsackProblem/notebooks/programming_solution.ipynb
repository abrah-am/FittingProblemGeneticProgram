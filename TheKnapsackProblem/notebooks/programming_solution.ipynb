{
 "cells": [
  {
   "cell_type": "markdown",
   "metadata": {},
   "source": [
    "# Programing Solution\n",
    "For this problem, we need to find how many items composed of size and value can fit in a container with a given size. The combination of items must maximize the capacity and offer the most value. \n",
    "\n",
    "__Example:__  \n",
    "The container can hold up to 100 units.  \n",
    "There are four items  \n",
    "item1: Size = 40 units, value = 10 units   \n",
    "item2: Size = 30 units, value = 20 units   \n",
    "item3: Size = 60 units, value = 5 units   \n",
    "item4: Size = 70 units, value = 2 units   \n",
    "\n",
    "__Let's see the combinations:__  \n",
    "item1 and item3 = 100 units, value = 15 units  \n",
    "item2 and item4 = 100 units, value = 22 units  \n",
    "item2 and item3 = 90 units, value = 25 units  "
   ]
  },
  {
   "cell_type": "code",
   "execution_count": 2,
   "metadata": {},
   "outputs": [],
   "source": [
    "import os\n",
    "import sys\n",
    "# Init modules path to use the code from 'modules' folder\n",
    "module_path = os.path.abspath(os.path.join('..'))\n",
    "if module_path not in sys.path:\n",
    "    sys.path.append(module_path)\n",
    "    \n",
    "# Import the Item class from item_module\n",
    "from modules.item_module import *"
   ]
  },
  {
   "cell_type": "markdown",
   "metadata": {},
   "source": [
    "### Create an item collection\n",
    "This is a collection of random items wit Random size and value. "
   ]
  },
  {
   "cell_type": "code",
   "execution_count": 3,
   "metadata": {},
   "outputs": [
    {
     "data": {
      "text/plain": [
       "[s=37;v=92]\t[s=16;v=74]\t[s=47;v=91]\t[s=28;v=75]\t[s=68;v=8]\t[s=58;v=11]\t[s=73;v=48]\t[s=63;v=26]\t[s=82;v=91]\t[s=51;v=2]\t[s=38;v=87]\t[s=22;v=38]\t[s=45;v=60]\t[s=28;v=79]\t[s=36;v=59]\t[s=93;v=34]\t[s=29;v=93]\t[s=89;v=68]\t[s=87;v=3]\t[s=23;v=63]\t"
      ]
     },
     "execution_count": 3,
     "metadata": {},
     "output_type": "execute_result"
    }
   ],
   "source": [
    "item_collection = ItemCollection(20)\n",
    "item_collection"
   ]
  },
  {
   "cell_type": "markdown",
   "metadata": {},
   "source": [
    "### Create a container\n",
    "Items will be tried to fit into this container until it reaches the max capacity"
   ]
  },
  {
   "cell_type": "code",
   "execution_count": 4,
   "metadata": {},
   "outputs": [
    {
     "data": {
      "text/plain": [
       "Items:[]\n",
       "Total Occupied Size:0\n",
       "Total Value:0"
      ]
     },
     "execution_count": 4,
     "metadata": {},
     "output_type": "execute_result"
    }
   ],
   "source": [
    "container = Container(100)\n",
    "container"
   ]
  },
  {
   "cell_type": "markdown",
   "metadata": {},
   "source": [
    "### Sort items by Size then Value\n",
    "For the first solution, items in the collection are sorted by **Size** and then **Value**. The sorted elements will be added to the container until no more items can fit."
   ]
  },
  {
   "cell_type": "code",
   "execution_count": 5,
   "metadata": {},
   "outputs": [
    {
     "data": {
      "text/plain": [
       "[s=16;v=74]\t[s=22;v=38]\t[s=23;v=63]\t[s=28;v=79]\t[s=28;v=75]\t[s=29;v=93]\t[s=36;v=59]\t[s=37;v=92]\t[s=38;v=87]\t[s=45;v=60]\t[s=47;v=91]\t[s=51;v=2]\t[s=58;v=11]\t[s=63;v=26]\t[s=68;v=8]\t[s=73;v=48]\t[s=82;v=91]\t[s=87;v=3]\t[s=89;v=68]\t[s=93;v=34]\t"
      ]
     },
     "execution_count": 5,
     "metadata": {},
     "output_type": "execute_result"
    }
   ],
   "source": [
    "bySize = NonGASolutions.by_size_then_value(item_collection)\n",
    "bySize"
   ]
  },
  {
   "cell_type": "code",
   "execution_count": 6,
   "metadata": {},
   "outputs": [
    {
     "data": {
      "text/plain": [
       "Items:[[s=16;v=74], [s=22;v=38], [s=23;v=63], [s=28;v=79]]\n",
       "Total Occupied Size:89\n",
       "Total Value:254"
      ]
     },
     "execution_count": 6,
     "metadata": {},
     "output_type": "execute_result"
    }
   ],
   "source": [
    "container.fit_items(bySize)\n",
    "container"
   ]
  },
  {
   "cell_type": "markdown",
   "metadata": {},
   "source": [
    "### Sort items by Value then Size\n",
    "For the first solution, items in the collection are sorted by **Value** and then **Size**. The sorted elements will be added to the container until no more items can fit."
   ]
  },
  {
   "cell_type": "code",
   "execution_count": 7,
   "metadata": {},
   "outputs": [
    {
     "data": {
      "text/plain": [
       "[s=29;v=93]\t[s=37;v=92]\t[s=47;v=91]\t[s=82;v=91]\t[s=38;v=87]\t[s=28;v=79]\t[s=28;v=75]\t[s=16;v=74]\t[s=89;v=68]\t[s=23;v=63]\t[s=45;v=60]\t[s=36;v=59]\t[s=73;v=48]\t[s=22;v=38]\t[s=93;v=34]\t[s=63;v=26]\t[s=58;v=11]\t[s=68;v=8]\t[s=87;v=3]\t[s=51;v=2]\t"
      ]
     },
     "execution_count": 7,
     "metadata": {},
     "output_type": "execute_result"
    }
   ],
   "source": [
    "byValue = NonGASolutions.by_value_then_size(item_collection)\n",
    "byValue"
   ]
  },
  {
   "cell_type": "code",
   "execution_count": 8,
   "metadata": {},
   "outputs": [
    {
     "data": {
      "text/plain": [
       "Items:[[s=29;v=93], [s=37;v=92], [s=28;v=79]]\n",
       "Total Occupied Size:94\n",
       "Total Value:264"
      ]
     },
     "execution_count": 8,
     "metadata": {},
     "output_type": "execute_result"
    }
   ],
   "source": [
    "container.fit_items(byValue)\n",
    "container"
   ]
  },
  {
   "cell_type": "markdown",
   "metadata": {},
   "source": [
    "### Sort items by Ratio (Value / Size)\n",
    "For the first solution, items in the collection are sorted a ratio resulting from diving __value__ by __Size__. The sorted elements will be added to the container until no more items can fit."
   ]
  },
  {
   "cell_type": "code",
   "execution_count": 9,
   "metadata": {},
   "outputs": [
    {
     "data": {
      "text/plain": [
       "[s=16;v=74]\t[s=29;v=93]\t[s=28;v=79]\t[s=23;v=63]\t[s=28;v=75]\t[s=37;v=92]\t[s=38;v=87]\t[s=47;v=91]\t[s=22;v=38]\t[s=36;v=59]\t[s=45;v=60]\t[s=82;v=91]\t[s=89;v=68]\t[s=73;v=48]\t[s=63;v=26]\t[s=93;v=34]\t[s=58;v=11]\t[s=68;v=8]\t[s=51;v=2]\t[s=87;v=3]\t"
      ]
     },
     "execution_count": 9,
     "metadata": {},
     "output_type": "execute_result"
    }
   ],
   "source": [
    "byRatio = NonGASolutions.by_ratio_value_size(item_collection)\n",
    "byRatio"
   ]
  },
  {
   "cell_type": "code",
   "execution_count": 10,
   "metadata": {},
   "outputs": [
    {
     "data": {
      "text/plain": [
       "Items:[[s=16;v=74], [s=29;v=93], [s=28;v=79], [s=23;v=63]]\n",
       "Total Occupied Size:96\n",
       "Total Value:309"
      ]
     },
     "execution_count": 10,
     "metadata": {},
     "output_type": "execute_result"
    }
   ],
   "source": [
    "container.fit_items(byRatio)\n",
    "container"
   ]
  }
 ],
 "metadata": {
  "kernelspec": {
   "display_name": "Python 3",
   "language": "python",
   "name": "python3"
  },
  "language_info": {
   "codemirror_mode": {
    "name": "ipython",
    "version": 3
   },
   "file_extension": ".py",
   "mimetype": "text/x-python",
   "name": "python",
   "nbconvert_exporter": "python",
   "pygments_lexer": "ipython3",
   "version": "3.6.3"
  }
 },
 "nbformat": 4,
 "nbformat_minor": 2
}
