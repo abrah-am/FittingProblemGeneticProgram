{
 "cells": [
  {
   "cell_type": "markdown",
   "metadata": {},
   "source": [
    "# Genetic vs Tranditional Coding Comparison\n",
    "\n",
    "A comparison between the traditional approach and the genetic programming approach to find the better fit.\n"
   ]
  },
  {
   "cell_type": "code",
   "execution_count": 2,
   "metadata": {},
   "outputs": [],
   "source": [
    "import os\n",
    "import sys\n",
    "\n",
    "# Init modules path to use the code from 'modules' folder\n",
    "module_path = os.path.abspath(os.path.join('..'))\n",
    "if module_path not in sys.path:\n",
    "    sys.path.append(module_path)\n",
    "\n",
    "from modules.genetic_module import *\n",
    "from modules.item_module import ItemCollection, Container "
   ]
  },
  {
   "cell_type": "markdown",
   "metadata": {},
   "source": [
    "### Create a collection and container"
   ]
  },
  {
   "cell_type": "code",
   "execution_count": 3,
   "metadata": {},
   "outputs": [
    {
     "name": "stdout",
     "output_type": "stream",
     "text": [
      "[s=74;v=5]\t[s=21;v=8]\t[s=44;v=3]\t[s=17;v=10]\t[s=39;v=3]\t[s=33;v=3]\t[s=67;v=6]\t[s=61;v=8]\t[s=15;v=6]\t[s=33;v=9]\t[s=90;v=5]\t[s=44;v=7]\t[s=99;v=3]\t[s=73;v=8]\t[s=17;v=3]\t[s=78;v=8]\t[s=93;v=4]\t[s=50;v=8]\t[s=79;v=6]\t[s=56;v=2]\t[s=94;v=10]\t[s=68;v=4]\t[s=45;v=1]\t[s=68;v=5]\t[s=54;v=8]\t[s=93;v=1]\t[s=99;v=8]\t[s=50;v=5]\t[s=59;v=1]\t[s=30;v=5]\t[s=79;v=10]\t[s=32;v=2]\t[s=68;v=5]\t[s=18;v=6]\t[s=46;v=2]\t[s=65;v=3]\t[s=15;v=8]\t[s=18;v=3]\t[s=70;v=2]\t[s=76;v=10]\t\n",
      "\n",
      "Items:[]\n",
      "Total Occupied Size:0\n",
      "Total Value:0\n"
     ]
    }
   ],
   "source": [
    "item_collection = ItemCollection(40, size=(15, 100), value=(1, 10))\n",
    "container = Container(300)\n",
    "print(item_collection)\n",
    "print()\n",
    "print(container)"
   ]
  },
  {
   "cell_type": "markdown",
   "metadata": {},
   "source": [
    "### 1. Fit elements by Size"
   ]
  },
  {
   "cell_type": "code",
   "execution_count": 4,
   "metadata": {},
   "outputs": [
    {
     "data": {
      "text/plain": [
       "Items:[[s=15;v=8], [s=15;v=6], [s=17;v=10], [s=17;v=3], [s=18;v=6], [s=18;v=3], [s=21;v=8], [s=30;v=5], [s=32;v=2], [s=33;v=9], [s=33;v=3], [s=39;v=3]]\n",
       "Total Occupied Size:288\n",
       "Total Value:66"
      ]
     },
     "execution_count": 4,
     "metadata": {},
     "output_type": "execute_result"
    }
   ],
   "source": [
    "bySize = NonGASolutions.by_size_then_value(item_collection)\n",
    "container.fit_items(bySize)\n",
    "container"
   ]
  },
  {
   "cell_type": "markdown",
   "metadata": {},
   "source": [
    "### 2. Fit elements by Value"
   ]
  },
  {
   "cell_type": "code",
   "execution_count": 5,
   "metadata": {},
   "outputs": [
    {
     "data": {
      "text/plain": [
       "Items:[[s=17;v=10], [s=76;v=10], [s=79;v=10], [s=94;v=10], [s=33;v=9]]\n",
       "Total Occupied Size:299\n",
       "Total Value:49"
      ]
     },
     "execution_count": 5,
     "metadata": {},
     "output_type": "execute_result"
    }
   ],
   "source": [
    "bySize =  NonGASolutions.by_value_then_size(item_collection)\n",
    "container.fit_items(bySize)\n",
    "container"
   ]
  },
  {
   "cell_type": "markdown",
   "metadata": {},
   "source": [
    "### 3. Fit elements by Ratio"
   ]
  },
  {
   "cell_type": "code",
   "execution_count": 6,
   "metadata": {},
   "outputs": [
    {
     "data": {
      "text/plain": [
       "Items:[[s=17;v=10], [s=15;v=8], [s=15;v=6], [s=21;v=8], [s=18;v=6], [s=33;v=9], [s=17;v=3], [s=30;v=5], [s=18;v=3], [s=50;v=8], [s=44;v=7]]\n",
       "Total Occupied Size:278\n",
       "Total Value:73"
      ]
     },
     "execution_count": 6,
     "metadata": {},
     "output_type": "execute_result"
    }
   ],
   "source": [
    "bySize =  NonGASolutions.by_ratio_value_size(item_collection)\n",
    "container.fit_items(bySize)\n",
    "container"
   ]
  },
  {
   "cell_type": "markdown",
   "metadata": {},
   "source": [
    "### 4. Fit elements with Genetic Algorithm\n",
    "The algorithm needs to be tuned. Try with different values for crossover and mutation rates"
   ]
  },
  {
   "cell_type": "code",
   "execution_count": 9,
   "metadata": {},
   "outputs": [
    {
     "data": {
      "text/plain": [
       "Items:[[s=74;v=5], [s=21;v=8], [s=17;v=10], [s=39;v=3], [s=15;v=6], [s=33;v=9], [s=50;v=5], [s=18;v=6], [s=15;v=8]]\n",
       "Total Occupied Size:282\n",
       "Total Value:60"
      ]
     },
     "execution_count": 9,
     "metadata": {},
     "output_type": "execute_result"
    }
   ],
   "source": [
    "# Start with population of 10, crossover 30% and mutation 20%\n",
    "solution = GeneticAlgorithm.find_optimal_items(item_collection=item_collection, container=container,\n",
    "                                              population_size=100, crossover_rate=0.3, mutation_rate=0.2)\n",
    "container.fit_items(solution)\n",
    "container"
   ]
  },
  {
   "cell_type": "code",
   "execution_count": 8,
   "metadata": {},
   "outputs": [
    {
     "data": {
      "text/plain": [
       "Items:[[s=21;v=8], [s=17;v=10], [s=61;v=8], [s=15;v=6], [s=33;v=9], [s=44;v=7], [s=17;v=3], [s=54;v=8], [s=18;v=6], [s=15;v=8]]\n",
       "Total Occupied Size:295\n",
       "Total Value:73"
      ]
     },
     "execution_count": 8,
     "metadata": {},
     "output_type": "execute_result"
    }
   ],
   "source": [
    "# Increase population, crossover and decrease mutation - This will result in more diverse population.\n",
    "# The output is non-deterministic, meaning that it is not 100% guaranteed that it will be better than the optimal solution.\n",
    "solution = GeneticAlgorithm.find_optimal_items(item_collection=item_collection, container=container,\n",
    "                                              population_size=1000, crossover_rate=1.0, mutation_rate=0.0)\n",
    "container.fit_items(solution)\n",
    "container"
   ]
  }
 ],
 "metadata": {
  "kernelspec": {
   "display_name": "Python 3",
   "language": "python",
   "name": "python3"
  },
  "language_info": {
   "codemirror_mode": {
    "name": "ipython",
    "version": 3
   },
   "file_extension": ".py",
   "mimetype": "text/x-python",
   "name": "python",
   "nbconvert_exporter": "python",
   "pygments_lexer": "ipython3",
   "version": "3.6.3"
  }
 },
 "nbformat": 4,
 "nbformat_minor": 2
}
