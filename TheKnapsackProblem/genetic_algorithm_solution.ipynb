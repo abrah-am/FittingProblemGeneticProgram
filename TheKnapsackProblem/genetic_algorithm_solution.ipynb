{
 "cells": [
  {
   "cell_type": "markdown",
   "metadata": {},
   "source": [
    "# Genetic Programming  \n",
    "\n",
    "Solving the Knapsack Problem using the genetic algorithm. The Algorithm requires the following steps:\n",
    "\n",
    "### 1. Creating a population\n",
    "    a. Copy the list of items.    \n",
    "    b. Randomly assign true or false to the items in the list. This will be the list of candidate solutions. \n",
    "    \n",
    "### 2. Selection    \n",
    "    a. Repair.   \n",
    "    Since the candidate solutions can exceed the container capacity. The selected items need to be adjusted.   \n",
    "    \n",
    "    b. Evaluate Fitness.   \n",
    "    The fitness will be evaluated based on the total size of the selected items. Items with highest value will be considered better fits.  \n",
    "    \n",
    "    b. Create a mating pool  \n",
    "    Using the 'Roulette Wheel Selection' choose the best candidates to be parents for the next generation.\n",
    "    - Calculate the total fitness\n",
    "    - Randomly choose a fitness value and find the candidate with the closest fitness value.\n",
    "    \n",
    "### 3. Reproduction\n",
    "    a. Crossover  \n",
    "    - Using the parents data create a new child which will contain part of the parent one's selection and part of the parent two's selection.  \n",
    "    \n",
    "    b. Mutation  \n",
    "    - To add mutation, using the rate change, decide randomly when to make changes to child. \n",
    "\n",
    "### 4. Exit conditions\n",
    "    a. Find the best candidate in the generation. \n",
    "    b. Compare the candidate with previous candidates  \n",
    "    c. Once there are no more changes, meaning that the new candidates are not improving the score, we exit and return the best candidate found so far. "
   ]
  },
  {
   "cell_type": "code",
   "execution_count": 1,
   "metadata": {},
   "outputs": [],
   "source": [
    "from genetic_module import GeneticAlgorithm, CandidateSolution\n",
    "from item_module import ItemCollection, Container \n",
    "import random"
   ]
  },
  {
   "cell_type": "code",
   "execution_count": 4,
   "metadata": {},
   "outputs": [
    {
     "name": "stdout",
     "output_type": "stream",
     "text": [
      "[s=99;v=70]\t[s=12;v=29]\t[s=35;v=10]\t[s=18;v=95]\t[s=2;v=66]\t[s=18;v=18]\t[s=55;v=83]\t[s=64;v=38]\t[s=21;v=6]\t[s=1;v=45]\t[s=17;v=10]\t[s=55;v=10]\t[s=86;v=10]\t[s=61;v=40]\t[s=98;v=9]\t[s=16;v=96]\t[s=25;v=56]\t[s=63;v=10]\t[s=18;v=58]\t[s=20;v=51]\t\n",
      "\n",
      "Items:[]\n",
      "Total Occupied Size:0\n",
      "Total Value:0\n"
     ]
    }
   ],
   "source": [
    "item_collection = ItemCollection(20)\n",
    "container = Container(100)\n",
    "print(item_collection)\n",
    "print()\n",
    "print(container)"
   ]
  },
  {
   "cell_type": "code",
   "execution_count": 3,
   "metadata": {},
   "outputs": [
    {
     "name": "stdout",
     "output_type": "stream",
     "text": [
      "\n",
      "CandidateSolution: \n",
      "[[s=32;v=5], False];\n",
      "[[s=97;v=78], False];\n",
      "[[s=22;v=60], False];\n",
      "[[s=91;v=61], False];\n",
      "[[s=89;v=75], False];\n",
      "[[s=99;v=62], False];\n",
      "[[s=40;v=56], True];\n",
      "[[s=65;v=2], False];\n",
      "[[s=75;v=65], False];\n",
      "[[s=40;v=73], False];\n",
      "[[s=69;v=54], False];\n",
      "[[s=10;v=87], True];\n",
      "[[s=39;v=47], False];\n",
      "[[s=85;v=68], False];\n",
      "[[s=33;v=98], True];\n",
      "[[s=89;v=38], False];\n",
      "[[s=86;v=70], False];\n",
      "[[s=89;v=68], False];\n",
      "[[s=40;v=3], False];\n",
      "[[s=63;v=18], False];\n",
      "Calculated Fitness: 83\n",
      "Calculated Value: 241\n"
     ]
    }
   ],
   "source": [
    "geneticAlgorithm = GeneticAlgorithm(population_size=10, crossover_rate=0.3, mutation_rate=0.2)   \n",
    "solution = geneticAlgorithm.find_optimal_items(item_collection, container)\n",
    "print(solution)"
   ]
  },
  {
   "cell_type": "code",
   "execution_count": null,
   "metadata": {},
   "outputs": [],
   "source": []
  }
 ],
 "metadata": {
  "kernelspec": {
   "display_name": "Python 3",
   "language": "python",
   "name": "python3"
  },
  "language_info": {
   "codemirror_mode": {
    "name": "ipython",
    "version": 3
   },
   "file_extension": ".py",
   "mimetype": "text/x-python",
   "name": "python",
   "nbconvert_exporter": "python",
   "pygments_lexer": "ipython3",
   "version": "3.7.3"
  }
 },
 "nbformat": 4,
 "nbformat_minor": 2
}
