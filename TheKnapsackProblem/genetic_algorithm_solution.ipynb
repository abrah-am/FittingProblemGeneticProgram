{
 "cells": [
  {
   "cell_type": "markdown",
   "metadata": {},
   "source": [
    "# Genetic Programming  \n",
    "\n",
    "Solving the Knapsack Problem using the genetic algorithm. The Algorithm requires the following steps:\n",
    "\n",
    "### 1. Creating a population\n",
    "    a. Copy the list of items.    \n",
    "    b. Randomly assign true or false to the items in the list. This will be the list of candidate solutions. \n",
    "    \n",
    "### 2. Selection    \n",
    "    a. Repair.   \n",
    "    Since the candidate solutions can exceed the container capacity. The selected items need to be adjusted.   \n",
    "    \n",
    "    b. Evaluate Fitness.   \n",
    "    The fitness will be evaluated based on the total size of the selected items. Items with highest value will be considered better fits.  \n",
    "    \n",
    "    b. Create a mating pool  \n",
    "    Using the 'Roulette Wheel Selection' choose the best candidates to be parents for the next generation.\n",
    "    - Calculate the total fitness\n",
    "    - Randomly choose a fitness value and find the candidate with the closest fitness value.\n",
    "    \n",
    "### 3. Reproduction\n",
    "    a. Crossover  \n",
    "    - Using the parents data create a new child which will contain part of the parent one's selection and part of the parent two's selection.  \n",
    "    \n",
    "    b. Mutation  \n",
    "    - To add mutation, using the rate change, decide randomly when to make changes to child. \n",
    "\n",
    "### 4. Exit conditions\n",
    "    a. Find the best candidate in the generation. \n",
    "    b. Compare the candidate with previous candidates  \n",
    "    c. Once there are no more changes, meaning that the new candidates are not improving the score, we exit and return the best candidate found so far. "
   ]
  },
  {
   "cell_type": "code",
   "execution_count": 2,
   "metadata": {},
   "outputs": [],
   "source": [
    "from genetic_module import GeneticAlgorithm, CandidateSolution\n",
    "from item_module import ItemCollection, Container \n",
    "import random"
   ]
  },
  {
   "cell_type": "code",
   "execution_count": 3,
   "metadata": {},
   "outputs": [
    {
     "name": "stdout",
     "output_type": "stream",
     "text": [
      "[s=29;v=10]\t[s=50;v=45]\t[s=77;v=35]\t[s=91;v=82]\t[s=81;v=49]\t[s=27;v=87]\t[s=11;v=12]\t[s=3;v=39]\t[s=80;v=30]\t[s=54;v=38]\t[s=89;v=48]\t[s=69;v=79]\t[s=57;v=13]\t[s=75;v=96]\t[s=75;v=51]\t[s=73;v=54]\t[s=85;v=28]\t[s=87;v=8]\t[s=45;v=76]\t[s=78;v=83]\t\n",
      "\n",
      "Items:[]\n",
      "Total Occupied Size:0\n",
      "Total Value:0\n"
     ]
    }
   ],
   "source": [
    "item_collection = ItemCollection(20)\n",
    "container = Container(100)\n",
    "print(item_collection)\n",
    "print()\n",
    "print(container)"
   ]
  },
  {
   "cell_type": "markdown",
   "metadata": {},
   "source": [
    "### Parameters:\n",
    "The genetic algorithm needs experimentation to get to the most optimal solution. The parameters will also depend on the problem that the algorithm is trying to solve. \n",
    "\n",
    "1. Population Size: A bigger population size will result in a bigger diversity of solutions. The drawback though is that a bigger population will need more memory and time.  \n",
    "2. Crossover Rate: The percentages of time that two parents will create a new child. More cross over means more possibilities to find the optimal solutions. However, a big rate can result in too much variation and not arriving to the best solution.  \n",
    "3. Mutation Rate: How much the next generation changes. Same idea than the cross over rate. "
   ]
  },
  {
   "cell_type": "code",
   "execution_count": 4,
   "metadata": {},
   "outputs": [
    {
     "name": "stdout",
     "output_type": "stream",
     "text": [
      "[s=27;v=87]\t[s=73;v=54]\t\n"
     ]
    }
   ],
   "source": [
    "geneticAlgorithm = GeneticAlgorithm(population_size=10, crossover_rate=0.3, mutation_rate=0.2)   \n",
    "solution = geneticAlgorithm.find_optimal_items(item_collection, container)\n",
    "print(solution)"
   ]
  },
  {
   "cell_type": "code",
   "execution_count": 5,
   "metadata": {},
   "outputs": [
    {
     "data": {
      "text/plain": [
       "Items:[[s=27;v=87], [s=73;v=54]]\n",
       "Total Occupied Size:100\n",
       "Total Value:141"
      ]
     },
     "execution_count": 5,
     "metadata": {},
     "output_type": "execute_result"
    }
   ],
   "source": [
    "container.fit_items(solution)\n",
    "container"
   ]
  },
  {
   "cell_type": "code",
   "execution_count": 6,
   "metadata": {},
   "outputs": [
    {
     "name": "stdout",
     "output_type": "stream",
     "text": [
      "[s=27;v=87]\t[s=11;v=12]\t[s=3;v=39]\t[s=45;v=76]\t\n"
     ]
    }
   ],
   "source": [
    "# Another test with different parameters\n",
    "geneticAlgorithm = GeneticAlgorithm(population_size=100, crossover_rate=0.5, mutation_rate=0.5)   \n",
    "solution = geneticAlgorithm.find_optimal_items(item_collection, container)\n",
    "print(solution)"
   ]
  },
  {
   "cell_type": "code",
   "execution_count": 7,
   "metadata": {},
   "outputs": [
    {
     "data": {
      "text/plain": [
       "Items:[[s=27;v=87], [s=11;v=12], [s=3;v=39], [s=45;v=76]]\n",
       "Total Occupied Size:86\n",
       "Total Value:214"
      ]
     },
     "execution_count": 7,
     "metadata": {},
     "output_type": "execute_result"
    }
   ],
   "source": [
    "container.fit_items(solution)\n",
    "container"
   ]
  },
  {
   "cell_type": "code",
   "execution_count": 16,
   "metadata": {},
   "outputs": [
    {
     "name": "stdout",
     "output_type": "stream",
     "text": [
      "[s=50;v=45]\t[s=27;v=87]\t[s=11;v=12]\t[s=3;v=39]\t\n"
     ]
    }
   ],
   "source": [
    "# Another test with different parameters\n",
    "geneticAlgorithm = GeneticAlgorithm(population_size=300, crossover_rate=0.9, mutation_rate=0.2)   \n",
    "solution = geneticAlgorithm.find_optimal_items(item_collection, container)\n",
    "print(solution)"
   ]
  },
  {
   "cell_type": "code",
   "execution_count": 17,
   "metadata": {},
   "outputs": [
    {
     "data": {
      "text/plain": [
       "Items:[[s=50;v=45], [s=27;v=87], [s=11;v=12], [s=3;v=39]]\n",
       "Total Occupied Size:91\n",
       "Total Value:183"
      ]
     },
     "execution_count": 17,
     "metadata": {},
     "output_type": "execute_result"
    }
   ],
   "source": [
    "container.fit_items(solution)\n",
    "container"
   ]
  }
 ],
 "metadata": {
  "kernelspec": {
   "display_name": "Python 3",
   "language": "python",
   "name": "python3"
  },
  "language_info": {
   "codemirror_mode": {
    "name": "ipython",
    "version": 3
   },
   "file_extension": ".py",
   "mimetype": "text/x-python",
   "name": "python",
   "nbconvert_exporter": "python",
   "pygments_lexer": "ipython3",
   "version": "3.7.3"
  }
 },
 "nbformat": 4,
 "nbformat_minor": 2
}
