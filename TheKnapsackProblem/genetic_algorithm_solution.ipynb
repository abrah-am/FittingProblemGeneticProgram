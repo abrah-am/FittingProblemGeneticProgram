{
 "cells": [
  {
   "cell_type": "markdown",
   "metadata": {},
   "source": [
    "# Genetic Programming  \n",
    "\n",
    "Solving the Knapsack Problem using the genetic algorithm. The Algorithm requires the following steps:\n",
    "\n",
    "### 1. Creating a population\n",
    "    a. Copy the list of items.    \n",
    "    b. Randomly assign true or false to the items in the list. This will be the list of candidate solutions. \n",
    "    \n",
    "### 2. Selection    \n",
    "    a. Repair.   \n",
    "    Since the candidate solutions can exceed the container capacity. The selected items need to be adjusted.   \n",
    "    \n",
    "    b. Evaluate Fitness.   \n",
    "    The fitness will be evaluated based on the total size of the selected items. Items with highest value will be considered better fits.  \n",
    "    \n",
    "    b. Create a mating pool  \n",
    "    Using the 'Roulette Wheel Selection' choose the best candidates to be parents for the next generation.\n",
    "    - Calculate the total fitness\n",
    "    - Randomly choose a fitness value and find the candidate with the closest fitness value.\n",
    "    \n",
    "### 3. Reproduction\n",
    "    a. Crossover  \n",
    "    - Using the parents data create a new child which will contain part of the parent one's selection and part of the parent two's selection.  \n",
    "    \n",
    "    b. Mutation  \n",
    "    - To add mutation, using the rate change, decide randomly when to make changes to child. \n",
    "\n",
    "### 4. Exit conditions\n",
    "    a. Find the best candidate in the generation. \n",
    "    b. Compare the candidate with previous candidates  \n",
    "    c. Once there are no more changes, meaning that the new candidates are not improving the score, we exit and return the best candidate found so far. "
   ]
  },
  {
   "cell_type": "code",
   "execution_count": 1,
   "metadata": {
    "collapsed": true
   },
   "outputs": [],
   "source": [
    "from genetic_module import GeneticAlgorithm, CandidateSolution\n",
    "from item_module import ItemCollection, Container \n",
    "import random"
   ]
  },
  {
   "cell_type": "code",
   "execution_count": 2,
   "metadata": {},
   "outputs": [
    {
     "name": "stdout",
     "output_type": "stream",
     "text": [
      "[s=37;v=51]\t[s=62;v=40]\t[s=87;v=81]\t[s=73;v=28]\t[s=13;v=87]\t[s=42;v=84]\t[s=29;v=49]\t[s=89;v=2]\t[s=95;v=32]\t[s=6;v=62]\t[s=26;v=56]\t[s=99;v=52]\t[s=48;v=66]\t[s=13;v=33]\t[s=91;v=79]\t[s=32;v=73]\t[s=66;v=4]\t[s=69;v=85]\t[s=32;v=35]\t[s=32;v=87]\t\n",
      "\n",
      "Items:[]\n",
      "Total Occupied Size:0\n",
      "Total Value:0\n"
     ]
    }
   ],
   "source": [
    "item_collection = ItemCollection(20)\n",
    "container = Container(100)\n",
    "print(item_collection)\n",
    "print()\n",
    "print(container)"
   ]
  },
  {
   "cell_type": "markdown",
   "metadata": {},
   "source": [
    "### Parameters:\n",
    "The genetic algorithm needs experimentation to get to the most optimal solution. The parameters will also depend on the problem that the algorithm is trying to solve. \n",
    "\n",
    "1. Population Size: A bigger population size will result in a bigger diversity of solutions. The drawback though is that a bigger population will need more memory and time.  \n",
    "2. Crossover Rate: The percentages of time that two parents will create a new child. More cross over means more possibilities to find the optimal solutions. However, a big rate can result in too much variation and not arriving to the best solution.  \n",
    "3. Mutation Rate: How much the next generation changes. Same idea than the cross over rate. "
   ]
  },
  {
   "cell_type": "code",
   "execution_count": 3,
   "metadata": {},
   "outputs": [
    {
     "name": "stdout",
     "output_type": "stream",
     "text": [
      "[s=13;v=87]\t[s=42;v=84]\t[s=13;v=33]\t[s=32;v=35]\t\n"
     ]
    }
   ],
   "source": [
    "solution = GeneticAlgorithm.find_optimal_items(item_collection=item_collection, container=container, \n",
    "                                               population_size=10, crossover_rate=0.3, mutation_rate=0.2)\n",
    "print(solution)"
   ]
  },
  {
   "cell_type": "code",
   "execution_count": 4,
   "metadata": {},
   "outputs": [
    {
     "data": {
      "text/plain": [
       "Items:[[s=13;v=87], [s=42;v=84], [s=13;v=33], [s=32;v=35]]\n",
       "Total Occupied Size:100\n",
       "Total Value:239"
      ]
     },
     "execution_count": 4,
     "metadata": {},
     "output_type": "execute_result"
    }
   ],
   "source": [
    "container.fit_items(solution)\n",
    "container"
   ]
  },
  {
   "cell_type": "code",
   "execution_count": 5,
   "metadata": {},
   "outputs": [
    {
     "name": "stdout",
     "output_type": "stream",
     "text": [
      "[s=62;v=40]\t[s=13;v=87]\t[s=29;v=49]\t[s=99;v=52]\t[s=91;v=79]\t[s=32;v=73]\t[s=69;v=85]\t[s=32;v=35]\t\n"
     ]
    }
   ],
   "source": [
    "# Another test with different parameters\n",
    "solution = GeneticAlgorithm.find_optimal_items(item_collection=item_collection, container=container, \n",
    "                                              population_size=100, crossover_rate=0.5, mutation_rate=0.5)\n",
    "print(solution)"
   ]
  },
  {
   "cell_type": "code",
   "execution_count": 6,
   "metadata": {},
   "outputs": [
    {
     "data": {
      "text/plain": [
       "Items:[[s=62;v=40], [s=13;v=87]]\n",
       "Total Occupied Size:75\n",
       "Total Value:127"
      ]
     },
     "execution_count": 6,
     "metadata": {},
     "output_type": "execute_result"
    }
   ],
   "source": [
    "container.fit_items(solution)\n",
    "container"
   ]
  },
  {
   "cell_type": "code",
   "execution_count": 7,
   "metadata": {},
   "outputs": [
    {
     "name": "stdout",
     "output_type": "stream",
     "text": [
      "[s=13;v=87]\t[s=89;v=2]\t[s=6;v=62]\t[s=99;v=52]\t[s=13;v=33]\t[s=32;v=87]\t\n"
     ]
    }
   ],
   "source": [
    "# Another test with different parameters\n",
    "solution = GeneticAlgorithm.find_optimal_items(item_collection=item_collection, container=container, \n",
    "                                              population_size=300, crossover_rate=0.9, mutation_rate=0.1)\n",
    "print(solution)"
   ]
  },
  {
   "cell_type": "code",
   "execution_count": 8,
   "metadata": {},
   "outputs": [
    {
     "data": {
      "text/plain": [
       "Items:[[s=13;v=87], [s=6;v=62], [s=13;v=33], [s=32;v=87]]\n",
       "Total Occupied Size:64\n",
       "Total Value:269"
      ]
     },
     "execution_count": 8,
     "metadata": {},
     "output_type": "execute_result"
    }
   ],
   "source": [
    "container.fit_items(solution)\n",
    "container"
   ]
  }
 ],
 "metadata": {
  "kernelspec": {
   "display_name": "Python 3",
   "language": "python",
   "name": "python3"
  },
  "language_info": {
   "codemirror_mode": {
    "name": "ipython",
    "version": 3
   },
   "file_extension": ".py",
   "mimetype": "text/x-python",
   "name": "python",
   "nbconvert_exporter": "python",
   "pygments_lexer": "ipython3",
   "version": "3.6.3"
  }
 },
 "nbformat": 4,
 "nbformat_minor": 2
}
