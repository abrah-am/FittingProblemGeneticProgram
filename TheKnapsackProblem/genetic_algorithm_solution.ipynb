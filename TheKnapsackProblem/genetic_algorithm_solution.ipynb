{
 "cells": [
  {
   "cell_type": "markdown",
   "metadata": {},
   "source": [
    "# Genetic Programming  \n",
    "\n",
    "Solving the Knapsack Problem using the genetic algorithm. The Algorithm requires the following steps:\n",
    "\n",
    "### 1. Creating a population\n",
    "    a. Copy the list of items.    \n",
    "    b. Randomly assign true or false to the items in the list. This will be the list of candidate solutions. \n",
    "    \n",
    "### 2. Selection    \n",
    "    a. Repair.   \n",
    "    Since the candidate solutions can exceed the container capacity. The selected items need to be adjusted.   \n",
    "    \n",
    "    b. Evaluate Fitness.   \n",
    "    The fitness will be evaluated based on the total size of the selected items. Items with highest value will be considered better fits.  \n",
    "    \n",
    "    b. Create a mating pool  \n",
    "    Using the 'Roulette Wheel Selection' choose the best candidates to be parents for the next generation.\n",
    "    - Calculate the total fitness\n",
    "    - Randomly choose a fitness value and find the candidate with the closest fitness value.\n",
    "    \n",
    "### 3. Reproduction\n",
    "    a. Crossover  \n",
    "    - Using the parents data create a new child which will contain part of the parent one's selection and part of the parent two's selection.  \n",
    "    \n",
    "    b. Mutation  \n",
    "    - To add mutation, using the rate change, decide randomly when to make changes to child. \n",
    "\n",
    "### 4. Exit conditions\n",
    "    a. Find the best candidate in the generation. \n",
    "    b. Compare the candidate with previous candidates  \n",
    "    c. Once there are no more changes, meaning that the new candidates are not improving the score, we exit and return the best candidate found so far. "
   ]
  },
  {
   "cell_type": "code",
   "execution_count": 1,
   "metadata": {
    "collapsed": true
   },
   "outputs": [],
   "source": [
    "from genetic_module import GeneticAlgorithm, CandidateSolution\n",
    "from item_module import ItemCollection, Container \n",
    "import random"
   ]
  },
  {
   "cell_type": "code",
   "execution_count": 2,
   "metadata": {},
   "outputs": [
    {
     "name": "stdout",
     "output_type": "stream",
     "text": [
      "[s=50;v=87]\t[s=28;v=53]\t[s=49;v=17]\t[s=54;v=54]\t[s=48;v=86]\t[s=2;v=75]\t[s=50;v=87]\t[s=57;v=19]\t[s=10;v=16]\t[s=62;v=74]\t[s=24;v=23]\t[s=70;v=71]\t[s=54;v=73]\t[s=3;v=77]\t[s=83;v=9]\t[s=19;v=38]\t[s=82;v=97]\t[s=61;v=82]\t[s=90;v=68]\t[s=26;v=51]\t\n",
      "\n",
      "Items:[]\n",
      "Total Occupied Size:0\n",
      "Total Value:0\n"
     ]
    }
   ],
   "source": [
    "item_collection = ItemCollection(20)\n",
    "container = Container(100)\n",
    "print(item_collection)\n",
    "print()\n",
    "print(container)"
   ]
  },
  {
   "cell_type": "markdown",
   "metadata": {},
   "source": [
    "### Parameters:\n",
    "The genetic algorithm needs experimentation to get to the most optimal solution. The parameters will also depend on the problem that the algorithm is trying to solve. \n",
    "\n",
    "1. Population Size: A bigger population size will result in a bigger diversity of solutions. The drawback though is that a bigger population will need more memory and time.  \n",
    "2. Crossover Rate: The percentages of time that two parents will create a new child. More cross over means more possibilities to find the optimal solutions. However, a big rate can result in too much variation and not arriving to the best solution.  \n",
    "3. Mutation Rate: How much the next generation changes. Same idea than the cross over rate. "
   ]
  },
  {
   "cell_type": "code",
   "execution_count": 3,
   "metadata": {},
   "outputs": [
    {
     "name": "stdout",
     "output_type": "stream",
     "text": [
      "[s=50;v=87]\t[s=2;v=75]\t[s=24;v=23]\t\n"
     ]
    }
   ],
   "source": [
    "solution = GeneticAlgorithm.find_optimal_items(item_collection=item_collection, container=container, \n",
    "                                               population_size=10, crossover_rate=0.3, mutation_rate=0.2)\n",
    "print(solution)"
   ]
  },
  {
   "cell_type": "code",
   "execution_count": 4,
   "metadata": {},
   "outputs": [
    {
     "data": {
      "text/plain": [
       "Items:[[s=50;v=87], [s=2;v=75], [s=24;v=23]]\n",
       "Total Occupied Size:76\n",
       "Total Value:185"
      ]
     },
     "execution_count": 4,
     "metadata": {},
     "output_type": "execute_result"
    }
   ],
   "source": [
    "container.fit_items(solution)\n",
    "container"
   ]
  },
  {
   "cell_type": "code",
   "execution_count": 5,
   "metadata": {},
   "outputs": [
    {
     "name": "stdout",
     "output_type": "stream",
     "text": [
      "[s=28;v=53]\t[s=48;v=86]\t[s=2;v=75]\t[s=3;v=77]\t[s=19;v=38]\t\n"
     ]
    }
   ],
   "source": [
    "# Another test with different parameters\n",
    "solution = GeneticAlgorithm.find_optimal_items(item_collection=item_collection, container=container, \n",
    "                                              population_size=100, crossover_rate=0.5, mutation_rate=0.5)\n",
    "print(solution)"
   ]
  },
  {
   "cell_type": "code",
   "execution_count": 6,
   "metadata": {},
   "outputs": [
    {
     "data": {
      "text/plain": [
       "Items:[[s=28;v=53], [s=48;v=86], [s=2;v=75], [s=3;v=77], [s=19;v=38]]\n",
       "Total Occupied Size:100\n",
       "Total Value:329"
      ]
     },
     "execution_count": 6,
     "metadata": {},
     "output_type": "execute_result"
    }
   ],
   "source": [
    "container.fit_items(solution)\n",
    "container"
   ]
  },
  {
   "cell_type": "code",
   "execution_count": 12,
   "metadata": {},
   "outputs": [
    {
     "name": "stdout",
     "output_type": "stream",
     "text": [
      "[s=28;v=53]\t[s=48;v=86]\t[s=2;v=75]\t[s=3;v=77]\t[s=83;v=9]\t[s=19;v=38]\t\n"
     ]
    }
   ],
   "source": [
    "# Another test with different parameters\n",
    "solution = GeneticAlgorithm.find_optimal_items(item_collection=item_collection, container=container, \n",
    "                                              population_size=300, crossover_rate=0.9, mutation_rate=0.1)\n",
    "print(solution)"
   ]
  },
  {
   "cell_type": "code",
   "execution_count": 13,
   "metadata": {},
   "outputs": [
    {
     "data": {
      "text/plain": [
       "Items:[[s=28;v=53], [s=48;v=86], [s=2;v=75], [s=3;v=77], [s=19;v=38]]\n",
       "Total Occupied Size:100\n",
       "Total Value:329"
      ]
     },
     "execution_count": 13,
     "metadata": {},
     "output_type": "execute_result"
    }
   ],
   "source": [
    "container.fit_items(solution)\n",
    "container"
   ]
  }
 ],
 "metadata": {
  "kernelspec": {
   "display_name": "Python 3",
   "language": "python",
   "name": "python3"
  },
  "language_info": {
   "codemirror_mode": {
    "name": "ipython",
    "version": 3
   },
   "file_extension": ".py",
   "mimetype": "text/x-python",
   "name": "python",
   "nbconvert_exporter": "python",
   "pygments_lexer": "ipython3",
   "version": "3.6.3"
  }
 },
 "nbformat": 4,
 "nbformat_minor": 2
}
