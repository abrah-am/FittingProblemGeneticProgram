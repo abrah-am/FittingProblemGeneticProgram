{
 "cells": [
  {
   "cell_type": "markdown",
   "metadata": {},
   "source": [
    "# Genetic Programming  \n",
    "\n",
    "Solving the Knapsack Problem using the genetic algorithm. The Algorithm requires the following steps:\n",
    "\n",
    "1. Creating a Population: Also known as Initial Random Generation. Create an initial of potential candidates.\n",
    "2. Selection: Fitness Tesing. Evaluate the solutions and eliminate the invalid ones."
   ]
  },
  {
   "cell_type": "code",
   "execution_count": 8,
   "metadata": {},
   "outputs": [],
   "source": [
    "from item_module import Item, ItemCollection, Container\n",
    "import random"
   ]
  },
  {
   "cell_type": "code",
   "execution_count": 139,
   "metadata": {
    "collapsed": true
   },
   "outputs": [],
   "source": [
    "class CandidateSolution:\n",
    "    def __init__(self, itemCollection, container):\n",
    "        self.itemCollection = itemCollection\n",
    "        self.container = container\n",
    "        self.isSelected = [[item, bool(random.getrandbits(1))] \n",
    "                           for item in itemCollection.getItems()]\n",
    "    \n",
    "    def getIsSelected(self):\n",
    "        return self.isSelected\n",
    "            \n",
    "    def getSelectedSize(self):\n",
    "        return sum((selected[0].getSize() if selected[1] else 0)  \n",
    "                                 for selected in self.isSelected)\n",
    "        \n",
    "    def repair(self):\n",
    "        while self.getSelectedSize() > self.container.getCapacity():\n",
    "            check = random.randint(0, len(self.isSelected) - 1)\n",
    "            if self.isSelected[check][1]:\n",
    "                self.isSelected[check][1] = False\n",
    "            \n",
    "    \n",
    "    def __repr__(self):\n",
    "        return self.__str__()\n",
    "        \n",
    "        \n",
    "    def __str__(self):\n",
    "        candStr = 'CandidateSolution: \\n'\n",
    "        for selected in self.isSelected:\n",
    "            candStr += '{};\\n'.format(selected)\n",
    "        candStr += 'Total Size: {}'.format(self.getSelectedSize())\n",
    "        return candStr\n",
    "        "
   ]
  },
  {
   "cell_type": "code",
   "execution_count": 140,
   "metadata": {},
   "outputs": [
    {
     "ename": "SyntaxError",
     "evalue": "invalid syntax (<ipython-input-140-2b687958ed62>, line 14)",
     "output_type": "error",
     "traceback": [
      "\u001b[1;36m  File \u001b[1;32m\"<ipython-input-140-2b687958ed62>\"\u001b[1;36m, line \u001b[1;32m14\u001b[0m\n\u001b[1;33m    for item in self.population\u001b[0m\n\u001b[1;37m                               ^\u001b[0m\n\u001b[1;31mSyntaxError\u001b[0m\u001b[1;31m:\u001b[0m invalid syntax\n"
     ]
    }
   ],
   "source": [
    "# This class contains the Genetic Algorithm \n",
    "class GeneticAlgorithm:\n",
    "    def __init__(self, populationSize = 0, crossoverPercentage = 0, mutationPercentage = 0):\n",
    "        self.populationSize = populationSize\n",
    "        self.crossoverPercentage = crossoverPercentage\n",
    "        self.mutationPercentage = mutationPercentage\n",
    "        \n",
    "    def findOptimalItems(self, itemCollection, container):\n",
    "        # 1. Population\n",
    "        self.population = [CandidateSolution(itemCollection, Container) \n",
    "                           for i in range(self.populationSize)]    \n",
    "        for item in self.population:\n",
    "            item.repair()\n",
    "        \n",
    "        # 2. Selection \n",
    "        print(self.population)\n",
    "        \n",
    "        \n",
    "    "
   ]
  },
  {
   "cell_type": "code",
   "execution_count": 141,
   "metadata": {},
   "outputs": [
    {
     "name": "stdout",
     "output_type": "stream",
     "text": [
      "[s=4;v=39]\t[s=35;v=23]\t[s=87;v=65]\t[s=53;v=47]\t[s=14;v=64]\t[s=61;v=100]\t[s=8;v=68]\t[s=89;v=57]\t[s=34;v=40]\t[s=4;v=93]\t[s=46;v=72]\t[s=41;v=62]\t[s=55;v=90]\t[s=36;v=91]\t[s=60;v=45]\t[s=48;v=73]\t[s=67;v=37]\t[s=90;v=100]\t[s=19;v=59]\t[s=40;v=51]\t\n",
      "\n",
      "Items:[]\n",
      "Total Occupied Size:0\n",
      "Total Value:0\n"
     ]
    }
   ],
   "source": [
    "#Tesing the candidate\n",
    "itemCol = ItemCollection(20)\n",
    "container = Container(100)\n",
    "print(itemCol)\n",
    "print()\n",
    "print(container)"
   ]
  },
  {
   "cell_type": "code",
   "execution_count": 142,
   "metadata": {},
   "outputs": [
    {
     "data": {
      "text/plain": [
       "CandidateSolution: \n",
       "[[s=4;v=39], False];\n",
       "[[s=35;v=23], True];\n",
       "[[s=87;v=65], True];\n",
       "[[s=53;v=47], True];\n",
       "[[s=14;v=64], True];\n",
       "[[s=61;v=100], True];\n",
       "[[s=8;v=68], True];\n",
       "[[s=89;v=57], True];\n",
       "[[s=34;v=40], False];\n",
       "[[s=4;v=93], True];\n",
       "[[s=46;v=72], True];\n",
       "[[s=41;v=62], False];\n",
       "[[s=55;v=90], True];\n",
       "[[s=36;v=91], False];\n",
       "[[s=60;v=45], True];\n",
       "[[s=48;v=73], False];\n",
       "[[s=67;v=37], False];\n",
       "[[s=90;v=100], True];\n",
       "[[s=19;v=59], False];\n",
       "[[s=40;v=51], False];\n",
       "Total Size: 602"
      ]
     },
     "execution_count": 142,
     "metadata": {},
     "output_type": "execute_result"
    }
   ],
   "source": [
    "candidate1 = CandidateSolution(itemCol, container)\n",
    "candidate1"
   ]
  },
  {
   "cell_type": "code",
   "execution_count": 144,
   "metadata": {},
   "outputs": [
    {
     "data": {
      "text/plain": [
       "CandidateSolution: \n",
       "[[s=4;v=39], False];\n",
       "[[s=35;v=23], True];\n",
       "[[s=87;v=65], False];\n",
       "[[s=53;v=47], False];\n",
       "[[s=14;v=64], False];\n",
       "[[s=61;v=100], False];\n",
       "[[s=8;v=68], False];\n",
       "[[s=89;v=57], False];\n",
       "[[s=34;v=40], False];\n",
       "[[s=4;v=93], False];\n",
       "[[s=46;v=72], True];\n",
       "[[s=41;v=62], False];\n",
       "[[s=55;v=90], False];\n",
       "[[s=36;v=91], False];\n",
       "[[s=60;v=45], False];\n",
       "[[s=48;v=73], False];\n",
       "[[s=67;v=37], False];\n",
       "[[s=90;v=100], False];\n",
       "[[s=19;v=59], False];\n",
       "[[s=40;v=51], False];\n",
       "Total Size: 81"
      ]
     },
     "execution_count": 144,
     "metadata": {},
     "output_type": "execute_result"
    }
   ],
   "source": [
    "candidate1.repair()\n",
    "candidate1"
   ]
  },
  {
   "cell_type": "code",
   "execution_count": null,
   "metadata": {
    "collapsed": true
   },
   "outputs": [],
   "source": []
  }
 ],
 "metadata": {
  "kernelspec": {
   "display_name": "Python 3",
   "language": "python",
   "name": "python3"
  },
  "language_info": {
   "codemirror_mode": {
    "name": "ipython",
    "version": 3
   },
   "file_extension": ".py",
   "mimetype": "text/x-python",
   "name": "python",
   "nbconvert_exporter": "python",
   "pygments_lexer": "ipython3",
   "version": "3.6.3"
  }
 },
 "nbformat": 4,
 "nbformat_minor": 2
}
