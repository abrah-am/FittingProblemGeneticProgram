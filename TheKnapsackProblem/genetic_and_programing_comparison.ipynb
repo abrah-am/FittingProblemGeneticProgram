{
 "cells": [
  {
   "cell_type": "markdown",
   "metadata": {},
   "source": [
    "# Genetic vs Tranditional Coding Comparison\n",
    "\n",
    "A comparison between the traditional approach and the genetic programming approach to find the better fit.\n"
   ]
  },
  {
   "cell_type": "code",
   "execution_count": 1,
   "metadata": {
    "collapsed": true
   },
   "outputs": [],
   "source": [
    "from genetic_module import *\n",
    "from item_module import *\n",
    "import random"
   ]
  },
  {
   "cell_type": "markdown",
   "metadata": {},
   "source": [
    "### Create a collection and container"
   ]
  },
  {
   "cell_type": "code",
   "execution_count": 2,
   "metadata": {},
   "outputs": [
    {
     "name": "stdout",
     "output_type": "stream",
     "text": [
      "[s=36;v=3]\t[s=78;v=10]\t[s=100;v=9]\t[s=84;v=1]\t[s=48;v=9]\t[s=98;v=5]\t[s=26;v=8]\t[s=92;v=6]\t[s=86;v=4]\t[s=91;v=6]\t[s=42;v=1]\t[s=58;v=2]\t[s=48;v=6]\t[s=67;v=7]\t[s=26;v=9]\t[s=17;v=2]\t[s=93;v=2]\t[s=48;v=5]\t[s=30;v=3]\t[s=46;v=1]\t[s=71;v=3]\t[s=41;v=8]\t[s=80;v=6]\t[s=87;v=4]\t[s=47;v=7]\t[s=37;v=7]\t[s=17;v=10]\t[s=35;v=3]\t[s=76;v=1]\t[s=92;v=8]\t[s=21;v=4]\t[s=58;v=3]\t[s=99;v=4]\t[s=72;v=6]\t[s=60;v=2]\t[s=90;v=4]\t[s=38;v=5]\t[s=85;v=9]\t[s=94;v=3]\t[s=82;v=10]\t\n",
      "\n",
      "Items:[]\n",
      "Total Occupied Size:0\n",
      "Total Value:0\n"
     ]
    }
   ],
   "source": [
    "item_collection = ItemCollection(40, size=(15, 100), value=(1, 10))\n",
    "container = Container(300)\n",
    "print(item_collection)\n",
    "print()\n",
    "print(container)"
   ]
  },
  {
   "cell_type": "markdown",
   "metadata": {},
   "source": [
    "### 1. Fit elements by Size"
   ]
  },
  {
   "cell_type": "code",
   "execution_count": 4,
   "metadata": {},
   "outputs": [
    {
     "data": {
      "text/plain": [
       "Items:[[s=17;v=10], [s=17;v=2], [s=21;v=4], [s=26;v=9], [s=26;v=8], [s=30;v=3], [s=35;v=3], [s=36;v=3], [s=37;v=7], [s=38;v=5]]\n",
       "Total Occupied Size:283\n",
       "Total Value:54"
      ]
     },
     "execution_count": 4,
     "metadata": {},
     "output_type": "execute_result"
    }
   ],
   "source": [
    "bySize = NonGASolutions.by_size_then_value(item_collection)\n",
    "container.fit_items(bySize)\n",
    "container"
   ]
  },
  {
   "cell_type": "markdown",
   "metadata": {},
   "source": [
    "### 2. Fit elements by Value"
   ]
  },
  {
   "cell_type": "code",
   "execution_count": 5,
   "metadata": {},
   "outputs": [
    {
     "data": {
      "text/plain": [
       "Items:[[s=17;v=10], [s=78;v=10], [s=82;v=10], [s=26;v=9], [s=48;v=9], [s=26;v=8], [s=21;v=4]]\n",
       "Total Occupied Size:298\n",
       "Total Value:60"
      ]
     },
     "execution_count": 5,
     "metadata": {},
     "output_type": "execute_result"
    }
   ],
   "source": [
    "bySize =  NonGASolutions.by_value_then_size(item_collection)\n",
    "container.fit_items(bySize)\n",
    "container"
   ]
  },
  {
   "cell_type": "markdown",
   "metadata": {},
   "source": [
    "### 3. Fit elements by Ratio"
   ]
  },
  {
   "cell_type": "code",
   "execution_count": 6,
   "metadata": {},
   "outputs": [
    {
     "data": {
      "text/plain": [
       "Items:[[s=17;v=10], [s=26;v=9], [s=26;v=8], [s=41;v=8], [s=21;v=4], [s=37;v=7], [s=48;v=9], [s=47;v=7], [s=17;v=2]]\n",
       "Total Occupied Size:280\n",
       "Total Value:64"
      ]
     },
     "execution_count": 6,
     "metadata": {},
     "output_type": "execute_result"
    }
   ],
   "source": [
    "bySize =  NonGASolutions.by_ratio_value_size(item_collection)\n",
    "container.fit_items(bySize)\n",
    "container"
   ]
  },
  {
   "cell_type": "markdown",
   "metadata": {},
   "source": [
    "### 4. Fit elements with Genetic Algorithm\n",
    "The algorithm needs to be tuned. Try with different values for crossover and mutation rates"
   ]
  },
  {
   "cell_type": "code",
   "execution_count": 7,
   "metadata": {},
   "outputs": [
    {
     "data": {
      "text/plain": [
       "Items:[[s=36;v=3], [s=48;v=9], [s=26;v=9], [s=17;v=2], [s=30;v=3], [s=37;v=7], [s=82;v=10]]\n",
       "Total Occupied Size:276\n",
       "Total Value:43"
      ]
     },
     "execution_count": 7,
     "metadata": {},
     "output_type": "execute_result"
    }
   ],
   "source": [
    "# Start with population of 10, crossover 30% and mutation 20%\n",
    "solution = GeneticAlgorithm.find_optimal_items(item_collection=item_collection, container=container,\n",
    "                                              population_size=100, crossover_rate=0.3, mutation_rate=0.2)\n",
    "container.fit_items(solution)\n",
    "container"
   ]
  },
  {
   "cell_type": "code",
   "execution_count": 8,
   "metadata": {},
   "outputs": [
    {
     "data": {
      "text/plain": [
       "Items:[[s=78;v=10], [s=48;v=9], [s=26;v=8], [s=26;v=9], [s=41;v=8], [s=37;v=7], [s=17;v=10], [s=21;v=4]]\n",
       "Total Occupied Size:294\n",
       "Total Value:65"
      ]
     },
     "execution_count": 8,
     "metadata": {},
     "output_type": "execute_result"
    }
   ],
   "source": [
    "# Increase population, crossover and decrease mutation - This will result in more diverse population.\n",
    "# The output is non-deterministic, meaning that it is not 100% guaranteed that it will be better than the optimal solution.\n",
    "solution = GeneticAlgorithm.find_optimal_items(item_collection=item_collection, container=container,\n",
    "                                              population_size=1000, crossover_rate=1.0, mutation_rate=0.0)\n",
    "container.fit_items(solution)\n",
    "container"
   ]
  }
 ],
 "metadata": {
  "kernelspec": {
   "display_name": "Python 3",
   "language": "python",
   "name": "python3"
  },
  "language_info": {
   "codemirror_mode": {
    "name": "ipython",
    "version": 3
   },
   "file_extension": ".py",
   "mimetype": "text/x-python",
   "name": "python",
   "nbconvert_exporter": "python",
   "pygments_lexer": "ipython3",
   "version": "3.6.3"
  }
 },
 "nbformat": 4,
 "nbformat_minor": 2
}
