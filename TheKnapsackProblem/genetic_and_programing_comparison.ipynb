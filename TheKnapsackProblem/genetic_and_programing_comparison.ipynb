{
 "cells": [
  {
   "cell_type": "markdown",
   "metadata": {},
   "source": [
    "# Genetic vs Tranditional Coding Comparison\n",
    "\n",
    "A comparison between the traditional approach and the genetic programming approach to find the better fit.\n"
   ]
  },
  {
   "cell_type": "code",
   "execution_count": 1,
   "metadata": {},
   "outputs": [],
   "source": [
    "from genetic_module import GeneticAlgorithm, CandidateSolution\n",
    "from item_module import ItemCollection, Container \n",
    "import random"
   ]
  },
  {
   "cell_type": "markdown",
   "metadata": {},
   "source": [
    "### Create a collection and container"
   ]
  },
  {
   "cell_type": "code",
   "execution_count": 2,
   "metadata": {},
   "outputs": [
    {
     "name": "stdout",
     "output_type": "stream",
     "text": [
      "[s=39;v=50]\t[s=93;v=65]\t[s=40;v=50]\t[s=97;v=65]\t[s=62;v=49]\t[s=50;v=33]\t[s=41;v=83]\t[s=73;v=1]\t[s=14;v=1]\t[s=44;v=86]\t[s=62;v=65]\t[s=19;v=20]\t[s=97;v=53]\t[s=52;v=95]\t[s=98;v=35]\t[s=33;v=4]\t[s=64;v=61]\t[s=47;v=23]\t[s=7;v=83]\t[s=86;v=63]\t[s=91;v=9]\t[s=18;v=1]\t[s=56;v=16]\t[s=8;v=52]\t[s=47;v=86]\t[s=87;v=73]\t[s=91;v=61]\t[s=60;v=21]\t[s=22;v=37]\t[s=71;v=25]\t[s=16;v=78]\t[s=92;v=28]\t[s=29;v=21]\t[s=77;v=61]\t[s=53;v=89]\t[s=28;v=9]\t[s=81;v=20]\t[s=93;v=55]\t[s=73;v=15]\t[s=47;v=7]\t\n",
      "\n",
      "Items:[]\n",
      "Total Occupied Size:0\n",
      "Total Value:0\n"
     ]
    }
   ],
   "source": [
    "item_collection = ItemCollection(40)\n",
    "container = Container(100)\n",
    "print(item_collection)\n",
    "print()\n",
    "print(container)"
   ]
  },
  {
   "cell_type": "markdown",
   "metadata": {},
   "source": [
    "### 1. Fit elements by Size"
   ]
  },
  {
   "cell_type": "code",
   "execution_count": 3,
   "metadata": {},
   "outputs": [
    {
     "data": {
      "text/plain": [
       "Items:[[s=98;v=35]]\n",
       "Total Occupied Size:98\n",
       "Total Value:35"
      ]
     },
     "execution_count": 3,
     "metadata": {},
     "output_type": "execute_result"
    }
   ],
   "source": [
    "bySize = item_collection.get_item_collection_by_size()\n",
    "container.fit_items(bySize)\n",
    "container"
   ]
  },
  {
   "cell_type": "markdown",
   "metadata": {},
   "source": [
    "### 2. Fit elements by Value"
   ]
  },
  {
   "cell_type": "code",
   "execution_count": 4,
   "metadata": {},
   "outputs": [
    {
     "data": {
      "text/plain": [
       "Items:[[s=52;v=95], [s=47;v=86]]\n",
       "Total Occupied Size:99\n",
       "Total Value:181"
      ]
     },
     "execution_count": 4,
     "metadata": {},
     "output_type": "execute_result"
    }
   ],
   "source": [
    "bySize = item_collection.get_item_collection_by_value()\n",
    "container.fit_items(bySize)\n",
    "container"
   ]
  },
  {
   "cell_type": "markdown",
   "metadata": {},
   "source": [
    "### 3. Fit elements by Ratio"
   ]
  },
  {
   "cell_type": "code",
   "execution_count": 5,
   "metadata": {},
   "outputs": [
    {
     "data": {
      "text/plain": [
       "Items:[[s=7;v=83], [s=8;v=52], [s=16;v=78], [s=41;v=83], [s=22;v=37]]\n",
       "Total Occupied Size:94\n",
       "Total Value:333"
      ]
     },
     "execution_count": 5,
     "metadata": {},
     "output_type": "execute_result"
    }
   ],
   "source": [
    "bySize = item_collection.get_item_collection_by_ration()\n",
    "container.fit_items(bySize)\n",
    "container"
   ]
  },
  {
   "cell_type": "markdown",
   "metadata": {},
   "source": [
    "### 4. Fit elements with Genetic Algorithm\n",
    "The algorithm needs to be tuned. Try with different values for crossover and mutation rates"
   ]
  },
  {
   "cell_type": "code",
   "execution_count": 7,
   "metadata": {},
   "outputs": [
    {
     "data": {
      "text/plain": [
       "Items:[[s=44;v=86], [s=19;v=20], [s=7;v=83], [s=8;v=52], [s=16;v=78]]\n",
       "Total Occupied Size:94\n",
       "Total Value:319"
      ]
     },
     "execution_count": 7,
     "metadata": {},
     "output_type": "execute_result"
    }
   ],
   "source": [
    "# Start with population of 10, crossover 30% and mutation 20%\n",
    "geneticAlgorithm = GeneticAlgorithm(population_size=100, crossover_rate=0.3, mutation_rate=0.2)   \n",
    "solution = geneticAlgorithm.find_optimal_items(item_collection, container)\n",
    "container.fit_items(solution)\n",
    "container"
   ]
  },
  {
   "cell_type": "code",
   "execution_count": 9,
   "metadata": {},
   "outputs": [
    {
     "data": {
      "text/plain": [
       "Items:[[s=44;v=86], [s=7;v=83], [s=8;v=52], [s=22;v=37], [s=16;v=78]]\n",
       "Total Occupied Size:97\n",
       "Total Value:336"
      ]
     },
     "execution_count": 9,
     "metadata": {},
     "output_type": "execute_result"
    }
   ],
   "source": [
    "# Increase population, crossover and decrease mutation - This will result in more diverse population.\n",
    "geneticAlgorithm = GeneticAlgorithm(population_size=1000, crossover_rate=9.5, mutation_rate=0)   \n",
    "solution = geneticAlgorithm.find_optimal_items(item_collection, container)\n",
    "container.fit_items(solution)\n",
    "container"
   ]
  }
 ],
 "metadata": {
  "kernelspec": {
   "display_name": "Python 3",
   "language": "python",
   "name": "python3"
  },
  "language_info": {
   "codemirror_mode": {
    "name": "ipython",
    "version": 3
   },
   "file_extension": ".py",
   "mimetype": "text/x-python",
   "name": "python",
   "nbconvert_exporter": "python",
   "pygments_lexer": "ipython3",
   "version": "3.7.3"
  }
 },
 "nbformat": 4,
 "nbformat_minor": 2
}
