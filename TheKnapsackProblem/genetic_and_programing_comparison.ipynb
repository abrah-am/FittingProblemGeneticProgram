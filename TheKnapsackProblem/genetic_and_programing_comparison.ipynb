{
 "cells": [
  {
   "cell_type": "markdown",
   "metadata": {},
   "source": [
    "# Genetic vs Tranditional Coding Comparison\n",
    "\n",
    "A comparison between the traditional approach and the genetic programming approach to find the better fit.\n"
   ]
  },
  {
   "cell_type": "code",
   "execution_count": 1,
   "metadata": {},
   "outputs": [],
   "source": [
    "from genetic_module import GeneticAlgorithm, CandidateSolution\n",
    "from item_module import ItemCollection, Container \n",
    "import random"
   ]
  },
  {
   "cell_type": "markdown",
   "metadata": {},
   "source": [
    "### Create a collection and container"
   ]
  },
  {
   "cell_type": "code",
   "execution_count": 2,
   "metadata": {},
   "outputs": [
    {
     "name": "stdout",
     "output_type": "stream",
     "text": [
      "[s=32;v=99]\t[s=10;v=1]\t[s=12;v=84]\t[s=29;v=92]\t[s=86;v=37]\t[s=80;v=9]\t[s=22;v=18]\t[s=90;v=16]\t[s=2;v=63]\t[s=29;v=19]\t[s=15;v=16]\t[s=37;v=67]\t[s=83;v=87]\t[s=100;v=76]\t[s=97;v=75]\t[s=64;v=13]\t[s=14;v=93]\t[s=52;v=5]\t[s=49;v=30]\t[s=47;v=87]\t[s=82;v=24]\t[s=95;v=39]\t[s=65;v=55]\t[s=88;v=83]\t[s=92;v=25]\t[s=85;v=27]\t[s=38;v=28]\t[s=27;v=97]\t[s=11;v=83]\t[s=83;v=70]\t[s=87;v=99]\t[s=20;v=70]\t[s=100;v=89]\t[s=7;v=69]\t[s=49;v=51]\t[s=72;v=47]\t[s=47;v=97]\t[s=30;v=16]\t[s=43;v=88]\t[s=74;v=40]\t\n",
      "\n",
      "Items:[]\n",
      "Total Occupied Size:0\n",
      "Total Value:0\n"
     ]
    }
   ],
   "source": [
    "item_collection = ItemCollection(40)\n",
    "container = Container(100)\n",
    "print(item_collection)\n",
    "print()\n",
    "print(container)"
   ]
  },
  {
   "cell_type": "markdown",
   "metadata": {},
   "source": [
    "### 1. Fit elements by Size"
   ]
  },
  {
   "cell_type": "code",
   "execution_count": 3,
   "metadata": {},
   "outputs": [
    {
     "data": {
      "text/plain": [
       "Items:[[s=100;v=89]]\n",
       "Total Occupied Size:100\n",
       "Total Value:89"
      ]
     },
     "execution_count": 3,
     "metadata": {},
     "output_type": "execute_result"
    }
   ],
   "source": [
    "bySize = item_collection.getItemCollectionBySize()\n",
    "container.fitItems(bySize)\n",
    "container"
   ]
  },
  {
   "cell_type": "markdown",
   "metadata": {},
   "source": [
    "### 2. Fit elements by Value"
   ]
  },
  {
   "cell_type": "code",
   "execution_count": 4,
   "metadata": {},
   "outputs": [
    {
     "data": {
      "text/plain": [
       "Items:[[s=87;v=99], [s=12;v=84]]\n",
       "Total Occupied Size:99\n",
       "Total Value:183"
      ]
     },
     "execution_count": 4,
     "metadata": {},
     "output_type": "execute_result"
    }
   ],
   "source": [
    "bySize = item_collection.getItemCollectionByValue()\n",
    "container.fitItems(bySize)\n",
    "container"
   ]
  },
  {
   "cell_type": "markdown",
   "metadata": {},
   "source": [
    "### 3. Fit elements by Ratio"
   ]
  },
  {
   "cell_type": "code",
   "execution_count": 5,
   "metadata": {},
   "outputs": [
    {
     "data": {
      "text/plain": [
       "Items:[[s=2;v=63], [s=7;v=69], [s=11;v=83], [s=12;v=84], [s=14;v=93], [s=27;v=97], [s=20;v=70]]\n",
       "Total Occupied Size:93\n",
       "Total Value:559"
      ]
     },
     "execution_count": 5,
     "metadata": {},
     "output_type": "execute_result"
    }
   ],
   "source": [
    "bySize = item_collection.getItemCollectionByRatio()\n",
    "container.fitItems(bySize)\n",
    "container"
   ]
  },
  {
   "cell_type": "markdown",
   "metadata": {},
   "source": [
    "### 4. Fit elements with Genetic Algorithm\n",
    "The algorithm needs to be tuned. Try with different values for crossover and mutation rates"
   ]
  },
  {
   "cell_type": "code",
   "execution_count": 11,
   "metadata": {},
   "outputs": [
    {
     "data": {
      "text/plain": [
       "Items:[[s=2;v=63], [s=15;v=16], [s=14;v=93], [s=27;v=97], [s=11;v=83], [s=20;v=70]]\n",
       "Total Occupied Size:89\n",
       "Total Value:422"
      ]
     },
     "execution_count": 11,
     "metadata": {},
     "output_type": "execute_result"
    }
   ],
   "source": [
    "# Start with population of 10, crossover 30% and mutation 20%\n",
    "geneticAlgorithm = GeneticAlgorithm(population_size=100, crossover_rate=0.3, mutation_rate=0.2)   \n",
    "solution = geneticAlgorithm.find_optimal_items(item_collection, container)\n",
    "container.fitItems(solution)\n",
    "container"
   ]
  },
  {
   "cell_type": "code",
   "execution_count": 10,
   "metadata": {},
   "outputs": [
    {
     "data": {
      "text/plain": [
       "Items:[[s=32;v=99], [s=12;v=84], [s=2;v=63], [s=14;v=93], [s=11;v=83], [s=20;v=70], [s=7;v=69]]\n",
       "Total Occupied Size:98\n",
       "Total Value:561"
      ]
     },
     "execution_count": 10,
     "metadata": {},
     "output_type": "execute_result"
    }
   ],
   "source": [
    "# Increase population, crossover and decrease mutation - This will result in more diverse population.\n",
    "geneticAlgorithm = GeneticAlgorithm(population_size=1000, crossover_rate=9.5, mutation_rate=0)   \n",
    "solution = geneticAlgorithm.find_optimal_items(item_collection, container)\n",
    "container.fitItems(solution)\n",
    "container"
   ]
  },
  {
   "cell_type": "code",
   "execution_count": null,
   "metadata": {},
   "outputs": [],
   "source": []
  }
 ],
 "metadata": {
  "kernelspec": {
   "display_name": "Python 3",
   "language": "python",
   "name": "python3"
  },
  "language_info": {
   "codemirror_mode": {
    "name": "ipython",
    "version": 3
   },
   "file_extension": ".py",
   "mimetype": "text/x-python",
   "name": "python",
   "nbconvert_exporter": "python",
   "pygments_lexer": "ipython3",
   "version": "3.7.3"
  }
 },
 "nbformat": 4,
 "nbformat_minor": 2
}
