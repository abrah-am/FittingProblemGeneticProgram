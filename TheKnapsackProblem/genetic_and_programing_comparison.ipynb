{
 "cells": [
  {
   "cell_type": "markdown",
   "metadata": {},
   "source": [
    "# Genetic vs Tranditional Coding Comparison\n",
    "\n",
    "A comparison between the traditional approach and the genetic programming approach to find the better fit.\n"
   ]
  },
  {
   "cell_type": "code",
   "execution_count": 1,
   "metadata": {
    "collapsed": true
   },
   "outputs": [],
   "source": [
    "from genetic_module import *\n",
    "from item_module import *\n",
    "import random"
   ]
  },
  {
   "cell_type": "markdown",
   "metadata": {},
   "source": [
    "### Create a collection and container"
   ]
  },
  {
   "cell_type": "code",
   "execution_count": 2,
   "metadata": {},
   "outputs": [
    {
     "name": "stdout",
     "output_type": "stream",
     "text": [
      "[s=81;v=8]\t[s=99;v=8]\t[s=45;v=1]\t[s=18;v=8]\t[s=79;v=1]\t[s=87;v=4]\t[s=27;v=5]\t[s=34;v=6]\t[s=36;v=4]\t[s=77;v=7]\t[s=49;v=7]\t[s=83;v=3]\t[s=31;v=6]\t[s=29;v=1]\t[s=86;v=9]\t[s=68;v=7]\t[s=60;v=6]\t[s=42;v=7]\t[s=25;v=10]\t[s=57;v=7]\t[s=80;v=2]\t[s=19;v=9]\t[s=99;v=4]\t[s=26;v=4]\t[s=53;v=7]\t[s=27;v=10]\t[s=67;v=3]\t[s=50;v=5]\t[s=71;v=3]\t[s=33;v=3]\t[s=31;v=10]\t[s=66;v=6]\t[s=18;v=8]\t[s=90;v=8]\t[s=25;v=10]\t[s=62;v=7]\t[s=61;v=4]\t[s=69;v=1]\t[s=58;v=6]\t[s=65;v=4]\t\n",
      "\n",
      "Items:[]\n",
      "Total Occupied Size:0\n",
      "Total Value:0\n"
     ]
    }
   ],
   "source": [
    "item_collection = ItemCollection(40, size=(15, 100), value=(1, 10))\n",
    "container = Container(300)\n",
    "print(item_collection)\n",
    "print()\n",
    "print(container)"
   ]
  },
  {
   "cell_type": "markdown",
   "metadata": {},
   "source": [
    "### 1. Fit elements by Size"
   ]
  },
  {
   "cell_type": "code",
   "execution_count": 3,
   "metadata": {},
   "outputs": [
    {
     "data": {
      "text/plain": [
       "Items:[[s=99;v=8], [s=99;v=4], [s=90;v=8]]\n",
       "Total Occupied Size:288\n",
       "Total Value:20"
      ]
     },
     "execution_count": 3,
     "metadata": {},
     "output_type": "execute_result"
    }
   ],
   "source": [
    "bySize = NonGASolutions.solution_based_on_size(item_collection)\n",
    "container.fit_items(bySize)\n",
    "container"
   ]
  },
  {
   "cell_type": "markdown",
   "metadata": {},
   "source": [
    "### 2. Fit elements by Value"
   ]
  },
  {
   "cell_type": "code",
   "execution_count": 4,
   "metadata": {},
   "outputs": [
    {
     "data": {
      "text/plain": [
       "Items:[[s=31;v=10], [s=27;v=10], [s=25;v=10], [s=25;v=10], [s=86;v=9], [s=19;v=9], [s=81;v=8]]\n",
       "Total Occupied Size:294\n",
       "Total Value:66"
      ]
     },
     "execution_count": 4,
     "metadata": {},
     "output_type": "execute_result"
    }
   ],
   "source": [
    "bySize =  NonGASolutions.solution_based_on_value(item_collection)\n",
    "container.fit_items(bySize)\n",
    "container"
   ]
  },
  {
   "cell_type": "markdown",
   "metadata": {},
   "source": [
    "### 3. Fit elements by Ratio"
   ]
  },
  {
   "cell_type": "code",
   "execution_count": 5,
   "metadata": {},
   "outputs": [
    {
     "data": {
      "text/plain": [
       "Items:[[s=19;v=9], [s=18;v=8], [s=18;v=8], [s=25;v=10], [s=25;v=10], [s=27;v=10], [s=31;v=10], [s=31;v=6], [s=27;v=5], [s=34;v=6], [s=42;v=7]]\n",
       "Total Occupied Size:297\n",
       "Total Value:89"
      ]
     },
     "execution_count": 5,
     "metadata": {},
     "output_type": "execute_result"
    }
   ],
   "source": [
    "bySize =  NonGASolutions.solution_based_on_ratio(item_collection)\n",
    "container.fit_items(bySize)\n",
    "container"
   ]
  },
  {
   "cell_type": "markdown",
   "metadata": {},
   "source": [
    "### 4. Fit elements with Genetic Algorithm\n",
    "The algorithm needs to be tuned. Try with different values for crossover and mutation rates"
   ]
  },
  {
   "cell_type": "code",
   "execution_count": 6,
   "metadata": {},
   "outputs": [
    {
     "data": {
      "text/plain": [
       "Items:[[s=18;v=8], [s=27;v=5], [s=53;v=7], [s=27;v=10], [s=31;v=10], [s=66;v=6], [s=18;v=8], [s=25;v=10]]\n",
       "Total Occupied Size:265\n",
       "Total Value:64"
      ]
     },
     "execution_count": 6,
     "metadata": {},
     "output_type": "execute_result"
    }
   ],
   "source": [
    "# Start with population of 10, crossover 30% and mutation 20%\n",
    "solution = GeneticAlgorithm.find_optimal_items(item_collection=item_collection, container=container,\n",
    "                                              population_size=100, crossover_rate=0.3, mutation_rate=0.2)\n",
    "container.fit_items(solution)\n",
    "container"
   ]
  },
  {
   "cell_type": "code",
   "execution_count": 8,
   "metadata": {},
   "outputs": [
    {
     "data": {
      "text/plain": [
       "Items:[[s=18;v=8], [s=27;v=5], [s=34;v=6], [s=31;v=6], [s=42;v=7], [s=25;v=10], [s=19;v=9], [s=27;v=10], [s=31;v=10], [s=18;v=8], [s=25;v=10]]\n",
       "Total Occupied Size:297\n",
       "Total Value:89"
      ]
     },
     "execution_count": 8,
     "metadata": {},
     "output_type": "execute_result"
    }
   ],
   "source": [
    "# Increase population, crossover and decrease mutation - This will result in more diverse population.\n",
    "# The output is non-deterministic, meaning that it is not 100% guaranteed that it will be better than the optimal solution.\n",
    "solution = GeneticAlgorithm.find_optimal_items(item_collection=item_collection, container=container,\n",
    "                                              population_size=1000, crossover_rate=1.0, mutation_rate=0.0)\n",
    "container.fit_items(solution)\n",
    "container"
   ]
  }
 ],
 "metadata": {
  "kernelspec": {
   "display_name": "Python 3",
   "language": "python",
   "name": "python3"
  },
  "language_info": {
   "codemirror_mode": {
    "name": "ipython",
    "version": 3
   },
   "file_extension": ".py",
   "mimetype": "text/x-python",
   "name": "python",
   "nbconvert_exporter": "python",
   "pygments_lexer": "ipython3",
   "version": "3.6.3"
  }
 },
 "nbformat": 4,
 "nbformat_minor": 2
}
