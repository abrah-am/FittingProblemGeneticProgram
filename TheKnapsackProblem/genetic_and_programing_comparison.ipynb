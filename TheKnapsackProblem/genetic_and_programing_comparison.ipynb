{
 "cells": [
  {
   "cell_type": "markdown",
   "metadata": {},
   "source": [
    "# Genetic vs Tranditional Coding Comparison\n",
    "\n",
    "A comparison between the traditional approach and the genetic programming approach to find the better fit.\n"
   ]
  },
  {
   "cell_type": "code",
   "execution_count": 1,
   "metadata": {},
   "outputs": [],
   "source": [
    "from genetic_module import *\n",
    "from item_module import *\n",
    "import random"
   ]
  },
  {
   "cell_type": "markdown",
   "metadata": {},
   "source": [
    "### Create a collection and container"
   ]
  },
  {
   "cell_type": "code",
   "execution_count": 12,
   "metadata": {},
   "outputs": [
    {
     "name": "stdout",
     "output_type": "stream",
     "text": [
      "[s=47;v=8]\t[s=19;v=3]\t[s=31;v=10]\t[s=37;v=10]\t[s=75;v=6]\t[s=78;v=4]\t[s=41;v=6]\t[s=26;v=4]\t[s=76;v=6]\t[s=49;v=4]\t[s=99;v=6]\t[s=47;v=5]\t[s=66;v=5]\t[s=89;v=3]\t[s=39;v=10]\t[s=21;v=8]\t[s=83;v=4]\t[s=34;v=2]\t[s=45;v=8]\t[s=32;v=2]\t[s=65;v=3]\t[s=95;v=9]\t[s=82;v=4]\t[s=52;v=1]\t[s=48;v=5]\t[s=39;v=3]\t[s=23;v=6]\t[s=37;v=5]\t[s=24;v=8]\t[s=95;v=2]\t[s=39;v=9]\t[s=85;v=1]\t[s=58;v=4]\t[s=54;v=1]\t[s=77;v=8]\t[s=56;v=6]\t[s=76;v=8]\t[s=64;v=7]\t[s=92;v=2]\t[s=74;v=10]\t\n",
      "\n",
      "Items:[]\n",
      "Total Occupied Size:0\n",
      "Total Value:0\n"
     ]
    }
   ],
   "source": [
    "item_collection = ItemCollection(40, size=(15, 100), value=(1, 10))\n",
    "container = Container(300)\n",
    "print(item_collection)\n",
    "print()\n",
    "print(container)"
   ]
  },
  {
   "cell_type": "markdown",
   "metadata": {},
   "source": [
    "### 1. Fit elements by Size"
   ]
  },
  {
   "cell_type": "code",
   "execution_count": 13,
   "metadata": {},
   "outputs": [
    {
     "data": {
      "text/plain": [
       "Items:[[s=74;v=10], [s=39;v=10], [s=37;v=10], [s=31;v=10], [s=95;v=9], [s=24;v=8]]\n",
       "Total Occupied Size:300\n",
       "Total Value:57"
      ]
     },
     "execution_count": 13,
     "metadata": {},
     "output_type": "execute_result"
    }
   ],
   "source": [
    "bySize = NonGASolutions.solution_based_on_size(item_collection)\n",
    "container.fit_items(bySize)\n",
    "container"
   ]
  },
  {
   "cell_type": "markdown",
   "metadata": {},
   "source": [
    "### 2. Fit elements by Value"
   ]
  },
  {
   "cell_type": "code",
   "execution_count": 14,
   "metadata": {},
   "outputs": [
    {
     "data": {
      "text/plain": [
       "Items:[[s=99;v=6], [s=95;v=9], [s=95;v=2]]\n",
       "Total Occupied Size:289\n",
       "Total Value:17"
      ]
     },
     "execution_count": 14,
     "metadata": {},
     "output_type": "execute_result"
    }
   ],
   "source": [
    "bySize =  NonGASolutions.solution_based_on_value(item_collection)\n",
    "container.fit_items(bySize)\n",
    "container"
   ]
  },
  {
   "cell_type": "markdown",
   "metadata": {},
   "source": [
    "### 3. Fit elements by Ratio"
   ]
  },
  {
   "cell_type": "code",
   "execution_count": 15,
   "metadata": {},
   "outputs": [
    {
     "data": {
      "text/plain": [
       "Items:[[s=21;v=8], [s=24;v=8], [s=31;v=10], [s=37;v=10], [s=23;v=6], [s=39;v=10], [s=39;v=9], [s=45;v=8], [s=19;v=3]]\n",
       "Total Occupied Size:278\n",
       "Total Value:72"
      ]
     },
     "execution_count": 15,
     "metadata": {},
     "output_type": "execute_result"
    }
   ],
   "source": [
    "bySize =  NonGASolutions.solution_based_on_ratio(item_collection)\n",
    "container.fit_items(bySize)\n",
    "container"
   ]
  },
  {
   "cell_type": "markdown",
   "metadata": {},
   "source": [
    "### 4. Fit elements with Genetic Algorithm\n",
    "The algorithm needs to be tuned. Try with different values for crossover and mutation rates"
   ]
  },
  {
   "cell_type": "code",
   "execution_count": 16,
   "metadata": {},
   "outputs": [
    {
     "data": {
      "text/plain": [
       "Items:[[s=47;v=8], [s=31;v=10], [s=21;v=8], [s=45;v=8], [s=37;v=5], [s=24;v=8], [s=76;v=8]]\n",
       "Total Occupied Size:281\n",
       "Total Value:55"
      ]
     },
     "execution_count": 16,
     "metadata": {},
     "output_type": "execute_result"
    }
   ],
   "source": [
    "# Start with population of 10, crossover 30% and mutation 20%\n",
    "geneticAlgorithm = GeneticAlgorithm(population_size=100, crossover_rate=0.3, mutation_rate=0.2)   \n",
    "solution = geneticAlgorithm.find_optimal_items(item_collection, container)\n",
    "container.fit_items(solution)\n",
    "container"
   ]
  },
  {
   "cell_type": "code",
   "execution_count": 19,
   "metadata": {},
   "outputs": [
    {
     "data": {
      "text/plain": [
       "Items:[[s=47;v=8], [s=31;v=10], [s=37;v=10], [s=26;v=4], [s=39;v=10], [s=21;v=8], [s=23;v=6], [s=24;v=8], [s=39;v=9]]\n",
       "Total Occupied Size:287\n",
       "Total Value:73"
      ]
     },
     "execution_count": 19,
     "metadata": {},
     "output_type": "execute_result"
    }
   ],
   "source": [
    "# Increase population, crossover and decrease mutation - This will result in more diverse population.\n",
    "# The output is non-deterministic, meaning that it is not 100% guaranteed that it will be better than the optimal solution.\n",
    "geneticAlgorithm = GeneticAlgorithm(population_size=1000, crossover_rate=0.95, mutation_rate=0.0)   \n",
    "solution = geneticAlgorithm.find_optimal_items(item_collection, container)\n",
    "container.fit_items(solution)\n",
    "container"
   ]
  }
 ],
 "metadata": {
  "kernelspec": {
   "display_name": "Python 3",
   "language": "python",
   "name": "python3"
  },
  "language_info": {
   "codemirror_mode": {
    "name": "ipython",
    "version": 3
   },
   "file_extension": ".py",
   "mimetype": "text/x-python",
   "name": "python",
   "nbconvert_exporter": "python",
   "pygments_lexer": "ipython3",
   "version": "3.6.3"
  }
 },
 "nbformat": 4,
 "nbformat_minor": 2
}
