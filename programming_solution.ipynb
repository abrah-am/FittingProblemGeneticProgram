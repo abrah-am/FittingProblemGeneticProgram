{
 "cells": [
  {
   "cell_type": "markdown",
   "metadata": {},
   "source": [
    "# Programing Solution\n",
    "For this problem, we need to find how many items composed of size and value can fit in a container with a given size. The combination of items must maximize the capacity and offer the most value. \n",
    "\n",
    "__Example:__  \n",
    "The container can hold up to 100 units.  \n",
    "There are four items  \n",
    "item1: Size = 40 units, value = 10 units   \n",
    "item2: Size = 30 units, value = 20 units   \n",
    "item3: Size = 60 units, value = 5 units   \n",
    "item4: Size = 70 units, value = 2 units   \n",
    "\n",
    "__Let's see the combinations:__  \n",
    "item1 and item3 = 100 units, value = 15 units  \n",
    "item2 and item4 = 100 units, value = 22 units  \n",
    "item2 and item3 = 90 units, value = 25 units  "
   ]
  },
  {
   "cell_type": "code",
   "execution_count": 1,
   "metadata": {},
   "outputs": [],
   "source": [
    "# Import the Item class from item_module\n",
    "from item_module import Item, ItemCollection, Container"
   ]
  },
  {
   "cell_type": "markdown",
   "metadata": {},
   "source": [
    "### Create an item collection\n",
    "This is a collection of random items wit Random size and value. "
   ]
  },
  {
   "cell_type": "code",
   "execution_count": 12,
   "metadata": {},
   "outputs": [
    {
     "data": {
      "text/plain": [
       "[s=29;v=49]\t[s=77;v=53]\t[s=79;v=34]\t[s=79;v=44]\t[s=56;v=69]\t[s=4;v=61]\t[s=79;v=80]\t[s=35;v=49]\t[s=90;v=74]\t[s=43;v=41]\t[s=30;v=31]\t[s=1;v=60]\t[s=69;v=4]\t[s=3;v=9]\t[s=57;v=25]\t[s=100;v=4]\t[s=50;v=26]\t[s=56;v=39]\t[s=99;v=40]\t[s=70;v=37]\t"
      ]
     },
     "execution_count": 12,
     "metadata": {},
     "output_type": "execute_result"
    }
   ],
   "source": [
    "itemCollection = ItemCollection(20)\n",
    "itemCollection"
   ]
  },
  {
   "cell_type": "markdown",
   "metadata": {},
   "source": [
    "### Create a container\n",
    "Items will be tried to fit into this container until it reaches the max capacity"
   ]
  },
  {
   "cell_type": "code",
   "execution_count": 13,
   "metadata": {},
   "outputs": [
    {
     "data": {
      "text/plain": [
       "Items:[]\n",
       "Total Occupied Size:0\n",
       "Total Value:0"
      ]
     },
     "execution_count": 13,
     "metadata": {},
     "output_type": "execute_result"
    }
   ],
   "source": [
    "container = Container(100)\n",
    "container"
   ]
  },
  {
   "cell_type": "markdown",
   "metadata": {},
   "source": [
    "### Sort items by Size then Value\n",
    "For the first solution, items in the collection are sorted by **Size** and then **Value**. The sorted elements will be added to the container until no more items can fit."
   ]
  },
  {
   "cell_type": "code",
   "execution_count": 14,
   "metadata": {},
   "outputs": [
    {
     "data": {
      "text/plain": [
       "[s=100;v=4]\t[s=99;v=40]\t[s=90;v=74]\t[s=79;v=80]\t[s=79;v=44]\t[s=79;v=34]\t[s=77;v=53]\t[s=70;v=37]\t[s=69;v=4]\t[s=57;v=25]\t[s=56;v=69]\t[s=56;v=39]\t[s=50;v=26]\t[s=43;v=41]\t[s=35;v=49]\t[s=30;v=31]\t[s=29;v=49]\t[s=4;v=61]\t[s=3;v=9]\t[s=1;v=60]\t"
      ]
     },
     "execution_count": 14,
     "metadata": {},
     "output_type": "execute_result"
    }
   ],
   "source": [
    "itemCollection.sortBySize()\n",
    "itemCollection"
   ]
  },
  {
   "cell_type": "code",
   "execution_count": 15,
   "metadata": {},
   "outputs": [
    {
     "data": {
      "text/plain": [
       "Items:[[s=100;v=4]]\n",
       "Total Occupied Size:100\n",
       "Total Value:4"
      ]
     },
     "execution_count": 15,
     "metadata": {},
     "output_type": "execute_result"
    }
   ],
   "source": [
    "container.fitItems(itemCollection)\n",
    "container"
   ]
  },
  {
   "cell_type": "markdown",
   "metadata": {},
   "source": [
    "### Sort items by Value then Size\n",
    "For the first solution, items in the collection are sorted by **Value** and then **Size**. The sorted elements will be added to the container until no more items can fit."
   ]
  },
  {
   "cell_type": "code",
   "execution_count": 16,
   "metadata": {},
   "outputs": [
    {
     "data": {
      "text/plain": [
       "[s=79;v=80]\t[s=90;v=74]\t[s=56;v=69]\t[s=4;v=61]\t[s=1;v=60]\t[s=77;v=53]\t[s=35;v=49]\t[s=29;v=49]\t[s=79;v=44]\t[s=43;v=41]\t[s=99;v=40]\t[s=56;v=39]\t[s=70;v=37]\t[s=79;v=34]\t[s=30;v=31]\t[s=50;v=26]\t[s=57;v=25]\t[s=3;v=9]\t[s=100;v=4]\t[s=69;v=4]\t"
      ]
     },
     "execution_count": 16,
     "metadata": {},
     "output_type": "execute_result"
    }
   ],
   "source": [
    "itemCollection.sortByValue()\n",
    "itemCollection"
   ]
  },
  {
   "cell_type": "code",
   "execution_count": 17,
   "metadata": {},
   "outputs": [
    {
     "data": {
      "text/plain": [
       "Items:[[s=79;v=80], [s=4;v=61], [s=1;v=60], [s=3;v=9]]\n",
       "Total Occupied Size:87\n",
       "Total Value:210"
      ]
     },
     "execution_count": 17,
     "metadata": {},
     "output_type": "execute_result"
    }
   ],
   "source": [
    "container.fitItems(itemCollection)\n",
    "container"
   ]
  },
  {
   "cell_type": "markdown",
   "metadata": {},
   "source": [
    "### Sort items by Ratio (Value / Size)\n",
    "For the first solution, items in the collection are sorted a ratio resulting from diving __value__ by __Size__. The sorted elements will be added to the container until no more items can fit."
   ]
  },
  {
   "cell_type": "code",
   "execution_count": 18,
   "metadata": {},
   "outputs": [
    {
     "data": {
      "text/plain": [
       "[s=1;v=60]\t[s=4;v=61]\t[s=3;v=9]\t[s=29;v=49]\t[s=35;v=49]\t[s=56;v=69]\t[s=30;v=31]\t[s=79;v=80]\t[s=43;v=41]\t[s=90;v=74]\t[s=56;v=39]\t[s=77;v=53]\t[s=79;v=44]\t[s=70;v=37]\t[s=50;v=26]\t[s=57;v=25]\t[s=79;v=34]\t[s=99;v=40]\t[s=69;v=4]\t[s=100;v=4]\t"
      ]
     },
     "execution_count": 18,
     "metadata": {},
     "output_type": "execute_result"
    }
   ],
   "source": [
    "itemCollection.sortByRatio()\n",
    "itemCollection"
   ]
  },
  {
   "cell_type": "code",
   "execution_count": 20,
   "metadata": {},
   "outputs": [
    {
     "data": {
      "text/plain": [
       "Items:[[s=1;v=60], [s=4;v=61], [s=3;v=9], [s=29;v=49], [s=35;v=49]]\n",
       "Total Occupied Size:72\n",
       "Total Value:228"
      ]
     },
     "execution_count": 20,
     "metadata": {},
     "output_type": "execute_result"
    }
   ],
   "source": [
    "container.fitItems(itemCollection)\n",
    "container"
   ]
  }
 ],
 "metadata": {
  "kernelspec": {
   "display_name": "Python 3",
   "language": "python",
   "name": "python3"
  },
  "language_info": {
   "codemirror_mode": {
    "name": "ipython",
    "version": 3
   },
   "file_extension": ".py",
   "mimetype": "text/x-python",
   "name": "python",
   "nbconvert_exporter": "python",
   "pygments_lexer": "ipython3",
   "version": "3.6.3"
  }
 },
 "nbformat": 4,
 "nbformat_minor": 2
}
