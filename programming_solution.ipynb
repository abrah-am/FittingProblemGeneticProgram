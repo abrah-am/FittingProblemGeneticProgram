{
 "cells": [
  {
   "cell_type": "markdown",
   "metadata": {},
   "source": [
    "# Programing Solution\n",
    "For this problem, we need to find how many items composed of size and value can fit in a container with a given size. The combination of items must maximize the capacity and offer the most value. \n",
    "\n",
    "__Example:__  \n",
    "The container can hold up to 100 units.  \n",
    "There are four items  \n",
    "item1: Size = 40 units, value = 10 units   \n",
    "item2: Size = 30 units, value = 20 units   \n",
    "item3: Size = 60 units, value = 5 units   \n",
    "item4: Size = 70 units, value = 2 units   \n",
    "\n",
    "__Let's see the combinations:__  \n",
    "item1 and item3 = 100 units, value = 15 units  \n",
    "item2 and item4 = 100 units, value = 22 units  \n",
    "item2 and item3 = 90 units, value = 25 units  "
   ]
  },
  {
   "cell_type": "code",
   "execution_count": 16,
   "metadata": {
    "collapsed": true
   },
   "outputs": [],
   "source": [
    "# Import the Item class from item_module\n",
    "from item_module import Item\n",
    "import random\n",
    "import matplotlib.pyplot as plt"
   ]
  },
  {
   "cell_type": "code",
   "execution_count": 2,
   "metadata": {
    "collapsed": true
   },
   "outputs": [],
   "source": [
    "def generateRandomItems(noOfItems=10, size=(1, 100), value=(1,100)):\n",
    "        result = []\n",
    "        for i in range(noOfItems):\n",
    "            result.append(Item(\n",
    "                random.randint(size[0],size[1]), \n",
    "                random.randint(size[0],size[1])))\n",
    "        return result\n"
   ]
  },
  {
   "cell_type": "code",
   "execution_count": 3,
   "metadata": {
    "collapsed": true
   },
   "outputs": [],
   "source": [
    "def getItemsThatFit(containerCapacity=100, items=[]):\n",
    "    results=[]\n",
    "    sizeUsed=0\n",
    "    for item in items:\n",
    "        if((sizeUsed + item.getSize()) <= containerCapacity):\n",
    "            results.append(item)\n",
    "            sizeUsed += item.getSize()\n",
    "    return results"
   ]
  },
  {
   "cell_type": "code",
   "execution_count": 38,
   "metadata": {
    "collapsed": true
   },
   "outputs": [],
   "source": [
    "def getFitReport(items):\n",
    "    fittedItems = getItemsThatFit(items=items)\n",
    "    print(fittedItems)\n",
    "    print('Total Size: ', sum(i.getSize() for i in  fittedItems))\n",
    "    print('Total Value: ', sum(i.getValue() for i in  fittedItems))"
   ]
  },
  {
   "cell_type": "code",
   "execution_count": 39,
   "metadata": {},
   "outputs": [
    {
     "data": {
      "text/plain": [
       "[[s=12;v=86],\n",
       " [s=49;v=56],\n",
       " [s=43;v=46],\n",
       " [s=82;v=99],\n",
       " [s=83;v=39],\n",
       " [s=45;v=20],\n",
       " [s=28;v=48],\n",
       " [s=27;v=84],\n",
       " [s=41;v=53],\n",
       " [s=54;v=26],\n",
       " [s=75;v=83],\n",
       " [s=50;v=42],\n",
       " [s=54;v=96],\n",
       " [s=49;v=61],\n",
       " [s=87;v=62],\n",
       " [s=29;v=99],\n",
       " [s=96;v=38],\n",
       " [s=51;v=60],\n",
       " [s=27;v=67],\n",
       " [s=38;v=9]]"
      ]
     },
     "execution_count": 39,
     "metadata": {},
     "output_type": "execute_result"
    }
   ],
   "source": [
    "itemList = generateRandomItems(20)\n",
    "itemList"
   ]
  },
  {
   "cell_type": "code",
   "execution_count": 40,
   "metadata": {},
   "outputs": [
    {
     "name": "stdout",
     "output_type": "stream",
     "text": [
      "[[s=96;v=38], [s=87;v=62], [s=83;v=39], [s=82;v=99], [s=75;v=83], [s=54;v=96], [s=54;v=26], [s=51;v=60], [s=50;v=42], [s=49;v=61], [s=49;v=56], [s=45;v=20], [s=43;v=46], [s=41;v=53], [s=38;v=9], [s=29;v=99], [s=28;v=48], [s=27;v=84], [s=27;v=67], [s=12;v=86]]\n"
     ]
    }
   ],
   "source": [
    "basedOnValue = sorted(itemList, key=lambda item: (item.getSize(), item.getValue()), reverse=True)\n",
    "print(basedOnValue)"
   ]
  },
  {
   "cell_type": "code",
   "execution_count": 41,
   "metadata": {},
   "outputs": [
    {
     "name": "stdout",
     "output_type": "stream",
     "text": [
      "[[s=96;v=38]]\n",
      "Total Size:  96\n",
      "Total Value:  38\n"
     ]
    }
   ],
   "source": [
    "getFitReport(basedOnValue)"
   ]
  },
  {
   "cell_type": "code",
   "execution_count": 42,
   "metadata": {},
   "outputs": [
    {
     "name": "stdout",
     "output_type": "stream",
     "text": [
      "[[s=82;v=99], [s=29;v=99], [s=54;v=96], [s=12;v=86], [s=27;v=84], [s=75;v=83], [s=27;v=67], [s=87;v=62], [s=49;v=61], [s=51;v=60], [s=49;v=56], [s=41;v=53], [s=28;v=48], [s=43;v=46], [s=50;v=42], [s=83;v=39], [s=96;v=38], [s=54;v=26], [s=45;v=20], [s=38;v=9]]\n"
     ]
    }
   ],
   "source": [
    "basedOnSize = sorted(itemList, key=lambda item: (item.getValue(), item.getSize()), reverse=True)\n",
    "print(basedOnSize)"
   ]
  },
  {
   "cell_type": "code",
   "execution_count": 43,
   "metadata": {},
   "outputs": [
    {
     "name": "stdout",
     "output_type": "stream",
     "text": [
      "[[s=82;v=99], [s=12;v=86]]\n",
      "Total Size:  94\n",
      "Total Value:  185\n"
     ]
    }
   ],
   "source": [
    "getFitReport(basedOnSize)"
   ]
  },
  {
   "cell_type": "code",
   "execution_count": 44,
   "metadata": {},
   "outputs": [
    {
     "name": "stdout",
     "output_type": "stream",
     "text": [
      "[[s=12;v=86], [s=29;v=99], [s=27;v=84], [s=27;v=67], [s=54;v=96], [s=28;v=48], [s=41;v=53], [s=49;v=61], [s=82;v=99], [s=51;v=60], [s=49;v=56], [s=75;v=83], [s=43;v=46], [s=50;v=42], [s=87;v=62], [s=54;v=26], [s=83;v=39], [s=45;v=20], [s=96;v=38], [s=38;v=9]]\n"
     ]
    }
   ],
   "source": [
    "basedOnRatio = sorted(itemList, key=lambda item: (item.getValue()/item.getSize()), reverse=True)\n",
    "print(basedOnRatio)"
   ]
  },
  {
   "cell_type": "code",
   "execution_count": 45,
   "metadata": {},
   "outputs": [
    {
     "name": "stdout",
     "output_type": "stream",
     "text": [
      "[[s=12;v=86], [s=29;v=99], [s=27;v=84], [s=27;v=67]]\n",
      "Total Size:  95\n",
      "Total Value:  336\n"
     ]
    }
   ],
   "source": [
    "getFitReport(basedOnRatio)"
   ]
  }
 ],
 "metadata": {
  "kernelspec": {
   "display_name": "Python 3",
   "language": "python",
   "name": "python3"
  },
  "language_info": {
   "codemirror_mode": {
    "name": "ipython",
    "version": 3
   },
   "file_extension": ".py",
   "mimetype": "text/x-python",
   "name": "python",
   "nbconvert_exporter": "python",
   "pygments_lexer": "ipython3",
   "version": "3.6.3"
  }
 },
 "nbformat": 4,
 "nbformat_minor": 2
}
